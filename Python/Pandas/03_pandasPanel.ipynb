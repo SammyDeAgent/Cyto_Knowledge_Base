{
 "cells": [
  {
   "cell_type": "code",
   "execution_count": 1,
   "metadata": {},
   "outputs": [],
   "source": [
    "# Library Configurations\n",
    "import pandas as pd\n",
    "import numpy as np"
   ]
  },
  {
   "cell_type": "code",
   "execution_count": 2,
   "metadata": {},
   "outputs": [
    {
     "ename": "AttributeError",
     "evalue": "module 'pandas' has no attribute 'Panel'",
     "output_type": "error",
     "traceback": [
      "\u001b[1;31m---------------------------------------------------------------------------\u001b[0m",
      "\u001b[1;31mAttributeError\u001b[0m                            Traceback (most recent call last)",
      "\u001b[1;32md:\\Work File\\Off shore Projects\\Python\\Pandas\\03_pandasPanel.ipynb Cell 2'\u001b[0m in \u001b[0;36m<cell line: 5>\u001b[1;34m()\u001b[0m\n\u001b[0;32m      <a href='vscode-notebook-cell:/d%3A/Work%20File/Off%20shore%20Projects/Python/Pandas/03_pandasPanel.ipynb#ch0000001?line=0'>1</a>\u001b[0m \u001b[39m# Pandas - Panel\u001b[39;00m\n\u001b[0;32m      <a href='vscode-notebook-cell:/d%3A/Work%20File/Off%20shore%20Projects/Python/Pandas/03_pandasPanel.ipynb#ch0000001?line=1'>2</a>\u001b[0m \u001b[39m# 3D Data Structure\u001b[39;00m\n\u001b[0;32m      <a href='vscode-notebook-cell:/d%3A/Work%20File/Off%20shore%20Projects/Python/Pandas/03_pandasPanel.ipynb#ch0000001?line=3'>4</a>\u001b[0m data \u001b[39m=\u001b[39m np\u001b[39m.\u001b[39mrandom\u001b[39m.\u001b[39mrand(\u001b[39m2\u001b[39m,\u001b[39m4\u001b[39m,\u001b[39m5\u001b[39m)\n\u001b[1;32m----> <a href='vscode-notebook-cell:/d%3A/Work%20File/Off%20shore%20Projects/Python/Pandas/03_pandasPanel.ipynb#ch0000001?line=4'>5</a>\u001b[0m p \u001b[39m=\u001b[39m pd\u001b[39m.\u001b[39;49mPanel(data)\n\u001b[0;32m      <a href='vscode-notebook-cell:/d%3A/Work%20File/Off%20shore%20Projects/Python/Pandas/03_pandasPanel.ipynb#ch0000001?line=5'>6</a>\u001b[0m \u001b[39mprint\u001b[39m(p)\n",
      "File \u001b[1;32mc:\\Users\\y50023848\\AppData\\Local\\Programs\\Python\\Python310\\lib\\site-packages\\pandas\\__init__.py:261\u001b[0m, in \u001b[0;36m__getattr__\u001b[1;34m(name)\u001b[0m\n\u001b[0;32m    <a href='file:///c%3A/Users/y50023848/AppData/Local/Programs/Python/Python310/lib/site-packages/pandas/__init__.py?line=256'>257</a>\u001b[0m     \u001b[39mfrom\u001b[39;00m \u001b[39mpandas\u001b[39;00m\u001b[39m.\u001b[39;00m\u001b[39mcore\u001b[39;00m\u001b[39m.\u001b[39;00m\u001b[39marrays\u001b[39;00m\u001b[39m.\u001b[39;00m\u001b[39msparse\u001b[39;00m \u001b[39mimport\u001b[39;00m SparseArray \u001b[39mas\u001b[39;00m _SparseArray\n\u001b[0;32m    <a href='file:///c%3A/Users/y50023848/AppData/Local/Programs/Python/Python310/lib/site-packages/pandas/__init__.py?line=258'>259</a>\u001b[0m     \u001b[39mreturn\u001b[39;00m _SparseArray\n\u001b[1;32m--> <a href='file:///c%3A/Users/y50023848/AppData/Local/Programs/Python/Python310/lib/site-packages/pandas/__init__.py?line=260'>261</a>\u001b[0m \u001b[39mraise\u001b[39;00m \u001b[39mAttributeError\u001b[39;00m(\u001b[39mf\u001b[39m\u001b[39m\"\u001b[39m\u001b[39mmodule \u001b[39m\u001b[39m'\u001b[39m\u001b[39mpandas\u001b[39m\u001b[39m'\u001b[39m\u001b[39m has no attribute \u001b[39m\u001b[39m'\u001b[39m\u001b[39m{\u001b[39;00mname\u001b[39m}\u001b[39;00m\u001b[39m'\u001b[39m\u001b[39m\"\u001b[39m)\n",
      "\u001b[1;31mAttributeError\u001b[0m: module 'pandas' has no attribute 'Panel'"
     ]
    }
   ],
   "source": [
    "# Pandas - Panel\n",
    "# 3D Data Structure\n",
    "\n",
    "data = np.random.rand(2,4,5)\n"
   ]
  },
  {
   "cell_type": "markdown",
   "metadata": {},
   "source": [
    "# PANEL IS DEPRECATED"
   ]
  },
  {
   "cell_type": "markdown",
   "metadata": {},
   "source": []
  }
 ],
 "metadata": {
  "interpreter": {
   "hash": "c2e197f2615060b1320db884ce9dd642f21640f7e22d0399598310ef19776d1d"
  },
  "kernelspec": {
   "display_name": "Python 3.10.4 64-bit",
   "language": "python",
   "name": "python3"
  },
  "language_info": {
   "codemirror_mode": {
    "name": "ipython",
    "version": 3
   },
   "file_extension": ".py",
   "mimetype": "text/x-python",
   "name": "python",
   "nbconvert_exporter": "python",
   "pygments_lexer": "ipython3",
   "version": "3.10.4"
  },
  "orig_nbformat": 4
 },
 "nbformat": 4,
 "nbformat_minor": 2
}
