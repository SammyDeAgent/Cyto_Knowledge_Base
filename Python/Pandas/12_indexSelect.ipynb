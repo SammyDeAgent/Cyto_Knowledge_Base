{
 "cells": [
  {
   "cell_type": "code",
   "execution_count": 2,
   "metadata": {},
   "outputs": [
    {
     "name": "stdout",
     "output_type": "stream",
     "text": [
      "                               Name      Type        Stat  Percentage  BaseATK\n",
      "0             Redhorn Stonethresher  Claymore   Crit DMG%        88.2      542\n",
      "1                Engulfing Lighting   Polearm         ER%        55.1      608\n",
      "2                  Wolfs Gravestone  Claymore        ATK%        49.6      608\n",
      "3   Lost Prayers to the Sacred Wind  Catalyst  Crit Rate%        33.1      608\n",
      "4                      Skyward Harp       Bow  Crit Rate%        22.1      674\n",
      "5               Haran Geppaku Futsu     Sword  Crit Rate%        33.1      608\n",
      "6                          Amos Bow       Bow        ATK%        49.6      608\n",
      "7              Everlasting Moonglow  Catalyst         HP%        49.6      608\n",
      "8                     Staff of Homa   Polearm   Crit DMG%        66.2      608\n",
      "9             Primodial Jade Cutter     Sword  Crit Rate%        44.1      542\n",
      "10                   Kaguras Verity  Catalyst   Crit DMG%        66.2      608\n",
      "11             Song of Broken Pines  Claymore    Phy DMG%        20.7      741\n"
     ]
    }
   ],
   "source": [
    "# Library Configurations\n",
    "import pandas as pd\n",
    "import numpy as np\n",
    "import datetime as dt\n",
    "\n",
    "df1 = pd.DataFrame({\n",
    "  'Name': pd.Series(['Redhorn Stonethresher','Engulfing Lighting','Wolfs Gravestone','Lost Prayers to the Sacred Wind','Skyward Harp','Haran Geppaku Futsu']),\n",
    "  'Type': pd.Series(['Claymore','Polearm','Claymore','Catalyst','Bow','Sword']),\n",
    "  'Stat': pd.Series(['Crit DMG%','ER%','ATK%','Crit Rate%','Crit Rate%','Crit Rate%']),\n",
    "  'Percentage': pd.Series([88.2,55.1,49.6,33.1, 22.1, 33.1]),\n",
    "  'BaseATK': pd.Series([542,608,608,608,674,608])\n",
    "})\n",
    "\n",
    "df2 = pd.DataFrame({\n",
    "  'Name': pd.Series(['Amos Bow','Everlasting Moonglow','Staff of Homa','Primodial Jade Cutter','Kaguras Verity','Song of Broken Pines']),\n",
    "  'Type': pd.Series(['Bow','Catalyst','Polearm','Sword','Catalyst','Claymore']),\n",
    "  'Stat': pd.Series(['ATK%','HP%','Crit DMG%','Crit Rate%','Crit DMG%','Phy DMG%']),\n",
    "  'Percentage': pd.Series([49.6,49.6,66.2,44.1,66.2,20.7]),\n",
    "  'BaseATK': pd.Series([608,608,608,542,608,741])\n",
    "})\n",
    "\n",
    "df = pd.concat([df1,df2], ignore_index=True)\n",
    "print(df)"
   ]
  },
  {
   "cell_type": "code",
   "execution_count": 8,
   "metadata": {},
   "outputs": [
    {
     "name": "stdout",
     "output_type": "stream",
     "text": [
      "                              Name  BaseATK\n",
      "2                 Wolfs Gravestone      608\n",
      "3  Lost Prayers to the Sacred Wind      608\n",
      "4                     Skyward Harp      674\n",
      "5              Haran Geppaku Futsu      608\n",
      "6                         Amos Bow      608\n",
      "7             Everlasting Moonglow      608\n",
      "               Name  BaseATK\n",
      "2  Wolfs Gravestone      608\n",
      "6          Amos Bow      608\n",
      "8     Staff of Homa      608\n"
     ]
    }
   ],
   "source": [
    "# Label based indexing\n",
    "print(df.loc[2:7,['Name','BaseATK']])\n",
    "\n",
    "print(df.loc[[2,6,8],['Name','BaseATK']])"
   ]
  },
  {
   "cell_type": "code",
   "execution_count": 10,
   "metadata": {},
   "outputs": [
    {
     "name": "stdout",
     "output_type": "stream",
     "text": [
      "    BaseATK\n",
      "0     False\n",
      "1     False\n",
      "2     False\n",
      "3     False\n",
      "4      True\n",
      "5     False\n",
      "6     False\n",
      "7     False\n",
      "8     False\n",
      "9     False\n",
      "10    False\n",
      "11     True\n"
     ]
    }
   ],
   "source": [
    "# Locating via values\n",
    "print(df.loc[:,['BaseATK']]>620)"
   ]
  },
  {
   "cell_type": "code",
   "execution_count": 14,
   "metadata": {},
   "outputs": [
    {
     "name": "stdout",
     "output_type": "stream",
     "text": [
      "                              Name      Type        Stat  Percentage  BaseATK\n",
      "0            Redhorn Stonethresher  Claymore   Crit DMG%        88.2      542\n",
      "1               Engulfing Lighting   Polearm         ER%        55.1      608\n",
      "2                 Wolfs Gravestone  Claymore        ATK%        49.6      608\n",
      "3  Lost Prayers to the Sacred Wind  Catalyst  Crit Rate%        33.1      608\n",
      "                              Name        Stat  Percentage\n",
      "3  Lost Prayers to the Sacred Wind  Crit Rate%        33.1\n",
      "4                     Skyward Harp  Crit Rate%        22.1\n",
      "5              Haran Geppaku Futsu  Crit Rate%        33.1\n",
      "6                         Amos Bow        ATK%        49.6\n"
     ]
    }
   ],
   "source": [
    "# iloc locates via purely integer index\n",
    "print(df.iloc[:4])\n",
    "\n",
    "print(df.iloc[3:7,[0,2,3]])"
   ]
  },
  {
   "cell_type": "code",
   "execution_count": 17,
   "metadata": {},
   "outputs": [],
   "source": [
    "# Beside label and integer based index, there's a hybrid too\n",
    "# IX is deprecated!"
   ]
  },
  {
   "cell_type": "code",
   "execution_count": 20,
   "metadata": {},
   "outputs": [
    {
     "name": "stdout",
     "output_type": "stream",
     "text": [
      "0               Redhorn Stonethresher\n",
      "1                  Engulfing Lighting\n",
      "2                    Wolfs Gravestone\n",
      "3     Lost Prayers to the Sacred Wind\n",
      "4                        Skyward Harp\n",
      "5                 Haran Geppaku Futsu\n",
      "6                            Amos Bow\n",
      "7                Everlasting Moonglow\n",
      "8                       Staff of Homa\n",
      "9               Primodial Jade Cutter\n",
      "10                     Kaguras Verity\n",
      "11               Song of Broken Pines\n",
      "Name: Name, dtype: object   0     542\n",
      "1     608\n",
      "2     608\n",
      "3     608\n",
      "4     674\n",
      "5     608\n",
      "6     608\n",
      "7     608\n",
      "8     608\n",
      "9     542\n",
      "10    608\n",
      "11    741\n",
      "Name: BaseATK, dtype: int64\n"
     ]
    }
   ],
   "source": [
    "# Attribute accessing\n",
    "print(df.Name,' ',df.BaseATK)"
   ]
  },
  {
   "cell_type": "code",
   "execution_count": null,
   "metadata": {},
   "outputs": [],
   "source": []
  }
 ],
 "metadata": {
  "kernelspec": {
   "display_name": "Python 3.10.4 64-bit",
   "language": "python",
   "name": "python3"
  },
  "language_info": {
   "codemirror_mode": {
    "name": "ipython",
    "version": 3
   },
   "file_extension": ".py",
   "mimetype": "text/x-python",
   "name": "python",
   "nbconvert_exporter": "python",
   "pygments_lexer": "ipython3",
   "version": "3.10.4"
  },
  "orig_nbformat": 4,
  "vscode": {
   "interpreter": {
    "hash": "c2e197f2615060b1320db884ce9dd642f21640f7e22d0399598310ef19776d1d"
   }
  }
 },
 "nbformat": 4,
 "nbformat_minor": 2
}
