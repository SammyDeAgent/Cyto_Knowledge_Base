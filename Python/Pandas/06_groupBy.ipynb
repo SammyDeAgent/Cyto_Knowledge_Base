{
 "cells": [
  {
   "cell_type": "code",
   "execution_count": 2,
   "metadata": {},
   "outputs": [],
   "source": [
    "# Library Configurations\n",
    "import pandas as pd\n",
    "import numpy as np"
   ]
  },
  {
   "cell_type": "code",
   "execution_count": 3,
   "metadata": {},
   "outputs": [
    {
     "name": "stdout",
     "output_type": "stream",
     "text": [
      "                               Name      Type        Stat  Percentage  BaseATK\n",
      "0             Redhorn Stonethresher  Claymore   Crit DMG%        88.2      542\n",
      "1                Engulfing Lighting   Polearm         ER%        55.1      608\n",
      "2                  Wolfs Gravestone  Claymore        ATK%        49.6      608\n",
      "3   Lost Prayers to the Sacred Wind  Catalyst  Crit Rate%        33.1      608\n",
      "4                      Skyward Harp       Bow  Crit Rate%        22.1      674\n",
      "5               Haran Geppaku Futsu     Sword  Crit Rate%        33.1      608\n",
      "6                          Amos Bow       Bow        ATK%        49.6      608\n",
      "7              Everlasting Moonglow  Catalyst         HP%        49.6      608\n",
      "8                     Staff of Homa   Polearm   Crit DMG%        66.2      608\n",
      "9             Primodial Jade Cutter     Sword  Crit Rate%        44.1      542\n",
      "10                   Kaguras Verity  Catalyst   Crit DMG%        66.2      608\n",
      "11             Song of Broken Pines  Claymore    Phy DMG%        20.7      741\n"
     ]
    }
   ],
   "source": [
    "left = pd.DataFrame({\n",
    "  'Name': pd.Series(['Redhorn Stonethresher','Engulfing Lighting','Wolfs Gravestone','Lost Prayers to the Sacred Wind','Skyward Harp','Haran Geppaku Futsu']),\n",
    "  'Type': pd.Series(['Claymore','Polearm','Claymore','Catalyst','Bow','Sword']),\n",
    "  'Stat': pd.Series(['Crit DMG%','ER%','ATK%','Crit Rate%','Crit Rate%','Crit Rate%']),\n",
    "  'Percentage': pd.Series([88.2,55.1,49.6,33.1, 22.1, 33.1]),\n",
    "  'BaseATK': pd.Series([542,608,608,608,674,608])\n",
    "})\n",
    "\n",
    "extend = pd.DataFrame({\n",
    "  'Name': pd.Series(['Amos Bow','Everlasting Moonglow','Staff of Homa','Primodial Jade Cutter','Kaguras Verity','Song of Broken Pines']),\n",
    "  'Type': pd.Series(['Bow','Catalyst','Polearm','Sword','Catalyst','Claymore']),\n",
    "  'Stat': pd.Series(['ATK%','HP%','Crit DMG%','Crit Rate%','Crit DMG%','Phy DMG%']),\n",
    "  'Percentage': pd.Series([49.6,49.6,66.2,44.1,66.2,20.7]),\n",
    "  'BaseATK': pd.Series([608,608,608,542,608,741])\n",
    "})\n",
    "\n",
    "df = pd.concat([left, extend], ignore_index=True)\n",
    "print(df)"
   ]
  },
  {
   "cell_type": "code",
   "execution_count": 4,
   "metadata": {},
   "outputs": [
    {
     "name": "stdout",
     "output_type": "stream",
     "text": [
      "<pandas.core.groupby.generic.DataFrameGroupBy object at 0x000001E08A23D810>\n",
      "{'Bow': [4, 6], 'Catalyst': [3, 7, 10], 'Claymore': [0, 2, 11], 'Polearm': [1, 8], 'Sword': [5, 9]} \n",
      "\n",
      "{('Bow', 'ATK%'): [6], ('Bow', 'Crit Rate%'): [4], ('Catalyst', 'Crit DMG%'): [10], ('Catalyst', 'Crit Rate%'): [3], ('Catalyst', 'HP%'): [7], ('Claymore', 'ATK%'): [2], ('Claymore', 'Crit DMG%'): [0], ('Claymore', 'Phy DMG%'): [11], ('Polearm', 'Crit DMG%'): [8], ('Polearm', 'ER%'): [1], ('Sword', 'Crit Rate%'): [5, 9]}\n"
     ]
    }
   ],
   "source": [
    "# Splitting data into Groups and Viewing\n",
    "print(df.groupby('Type'))\n",
    "print(df.groupby('Type').groups,'\\n')\n",
    "print(df.groupby(['Type','Stat']).groups)"
   ]
  },
  {
   "cell_type": "code",
   "execution_count": 5,
   "metadata": {},
   "outputs": [
    {
     "name": "stdout",
     "output_type": "stream",
     "text": [
      "Bow\n",
      "           Name Type        Stat  Percentage  BaseATK\n",
      "4  Skyward Harp  Bow  Crit Rate%        22.1      674\n",
      "6      Amos Bow  Bow        ATK%        49.6      608 \n",
      "\n",
      "Catalyst\n",
      "                               Name      Type        Stat  Percentage  BaseATK\n",
      "3   Lost Prayers to the Sacred Wind  Catalyst  Crit Rate%        33.1      608\n",
      "7              Everlasting Moonglow  Catalyst         HP%        49.6      608\n",
      "10                   Kaguras Verity  Catalyst   Crit DMG%        66.2      608 \n",
      "\n",
      "Claymore\n",
      "                     Name      Type       Stat  Percentage  BaseATK\n",
      "0   Redhorn Stonethresher  Claymore  Crit DMG%        88.2      542\n",
      "2        Wolfs Gravestone  Claymore       ATK%        49.6      608\n",
      "11   Song of Broken Pines  Claymore   Phy DMG%        20.7      741 \n",
      "\n",
      "Polearm\n",
      "                 Name     Type       Stat  Percentage  BaseATK\n",
      "1  Engulfing Lighting  Polearm        ER%        55.1      608\n",
      "8       Staff of Homa  Polearm  Crit DMG%        66.2      608 \n",
      "\n",
      "Sword\n",
      "                    Name   Type        Stat  Percentage  BaseATK\n",
      "5    Haran Geppaku Futsu  Sword  Crit Rate%        33.1      608\n",
      "9  Primodial Jade Cutter  Sword  Crit Rate%        44.1      542 \n",
      "\n"
     ]
    }
   ],
   "source": [
    "# Iterating the groups\n",
    "grouped = df.groupby('Type')\n",
    "for name, group in grouped:\n",
    "  print(name)\n",
    "  print(group,'\\n')"
   ]
  },
  {
   "cell_type": "code",
   "execution_count": 6,
   "metadata": {},
   "outputs": [
    {
     "name": "stdout",
     "output_type": "stream",
     "text": [
      "                               Name      Type        Stat  Percentage  BaseATK\n",
      "3   Lost Prayers to the Sacred Wind  Catalyst  Crit Rate%        33.1      608\n",
      "7              Everlasting Moonglow  Catalyst         HP%        49.6      608\n",
      "10                   Kaguras Verity  Catalyst   Crit DMG%        66.2      608\n"
     ]
    }
   ],
   "source": [
    "# Selecting only a group\n",
    "print(grouped.get_group('Catalyst'))"
   ]
  },
  {
   "cell_type": "code",
   "execution_count": 7,
   "metadata": {},
   "outputs": [
    {
     "name": "stdout",
     "output_type": "stream",
     "text": [
      "Type\n",
      "Bow         641.000000\n",
      "Catalyst    608.000000\n",
      "Claymore    630.333333\n",
      "Polearm     608.000000\n",
      "Sword       575.000000\n",
      "Name: BaseATK, dtype: float64\n"
     ]
    }
   ],
   "source": [
    "# Aggregations - where aggregation operations can be performed\n",
    "print(grouped['BaseATK'].agg(np.mean))"
   ]
  },
  {
   "cell_type": "code",
   "execution_count": 8,
   "metadata": {},
   "outputs": [
    {
     "name": "stdout",
     "output_type": "stream",
     "text": [
      "          Name  Stat  Percentage  BaseATK\n",
      "Type                                     \n",
      "Bow          2     2           2        2\n",
      "Catalyst     3     3           3        3\n",
      "Claymore     3     3           3        3\n",
      "Polearm      2     2           2        2\n",
      "Sword        2     2           2        2\n"
     ]
    }
   ],
   "source": [
    "# Size aggregation\n",
    "print(grouped.agg(np.size))"
   ]
  },
  {
   "cell_type": "code",
   "execution_count": 9,
   "metadata": {},
   "outputs": [
    {
     "name": "stdout",
     "output_type": "stream",
     "text": [
      "           sum        mean         std\n",
      "Type                                  \n",
      "Bow       1282  641.000000   46.669048\n",
      "Catalyst  1824  608.000000    0.000000\n",
      "Claymore  1891  630.333333  101.362386\n",
      "Polearm   1216  608.000000    0.000000\n",
      "Sword     1150  575.000000   46.669048\n"
     ]
    }
   ],
   "source": [
    "# Multi aggregation\n",
    "print(grouped['BaseATK'].agg([np.sum, np.mean, np.std]))"
   ]
  },
  {
   "cell_type": "code",
   "execution_count": 10,
   "metadata": {},
   "outputs": [
    {
     "name": "stdout",
     "output_type": "stream",
     "text": [
      "    Percentage    BaseATK\n",
      "0    10.443131  -8.714607\n",
      "1    -7.071068        NaN\n",
      "2    -0.954744  -2.203316\n",
      "3    -9.989914        NaN\n",
      "4    -7.071068   7.071068\n",
      "5    -7.071068   7.071068\n",
      "6     7.071068  -7.071068\n",
      "7    -0.020141        NaN\n",
      "8     7.071068        NaN\n",
      "9     7.071068  -7.071068\n",
      "10   10.010055        NaN\n",
      "11   -9.488387  10.917922\n"
     ]
    },
    {
     "name": "stderr",
     "output_type": "stream",
     "text": [
      "C:\\Users\\y50023848\\AppData\\Local\\Temp\\ipykernel_13108\\1542296121.py:3: FutureWarning: Dropping invalid columns in DataFrameGroupBy.transform is deprecated. In a future version, a TypeError will be raised. Before calling .transform, select only columns which should be valid for the function.\n",
      "  print(grouped.transform(score))\n"
     ]
    }
   ],
   "source": [
    "# Transformations \n",
    "score = lambda x: (x - x.mean()) / x.std()*10\n",
    "print(grouped.transform(score))"
   ]
  },
  {
   "cell_type": "code",
   "execution_count": 11,
   "metadata": {},
   "outputs": [
    {
     "name": "stdout",
     "output_type": "stream",
     "text": [
      "                               Name      Type        Stat  Percentage  BaseATK\n",
      "0             Redhorn Stonethresher  Claymore   Crit DMG%        88.2      542\n",
      "2                  Wolfs Gravestone  Claymore        ATK%        49.6      608\n",
      "3   Lost Prayers to the Sacred Wind  Catalyst  Crit Rate%        33.1      608\n",
      "7              Everlasting Moonglow  Catalyst         HP%        49.6      608\n",
      "10                   Kaguras Verity  Catalyst   Crit DMG%        66.2      608\n",
      "11             Song of Broken Pines  Claymore    Phy DMG%        20.7      741\n"
     ]
    }
   ],
   "source": [
    "# DF Filtration\n",
    "# Weapon type that is more than or equal to 3 occurance\n",
    "print(grouped.filter(lambda x: len(x) >= 3))"
   ]
  }
 ],
 "metadata": {
  "kernelspec": {
   "display_name": "Python 3.10.4 64-bit",
   "language": "python",
   "name": "python3"
  },
  "language_info": {
   "codemirror_mode": {
    "name": "ipython",
    "version": 3
   },
   "file_extension": ".py",
   "mimetype": "text/x-python",
   "name": "python",
   "nbconvert_exporter": "python",
   "pygments_lexer": "ipython3",
   "version": "3.10.4"
  },
  "orig_nbformat": 4,
  "vscode": {
   "interpreter": {
    "hash": "c2e197f2615060b1320db884ce9dd642f21640f7e22d0399598310ef19776d1d"
   }
  }
 },
 "nbformat": 4,
 "nbformat_minor": 2
}
