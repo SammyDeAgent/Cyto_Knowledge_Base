{
 "cells": [
  {
   "cell_type": "code",
   "execution_count": 4,
   "metadata": {},
   "outputs": [],
   "source": [
    "# Library Configurations\n",
    "import pandas as pd\n",
    "import numpy as np\n",
    "import datetime as dt"
   ]
  },
  {
   "cell_type": "code",
   "execution_count": 5,
   "metadata": {},
   "outputs": [
    {
     "name": "stdout",
     "output_type": "stream",
     "text": [
      "2022-06-15 12:24:38.412651\n",
      "2022-06-15 12:24:38.412651\n"
     ]
    },
    {
     "name": "stderr",
     "output_type": "stream",
     "text": [
      "C:\\Users\\y50023848\\AppData\\Local\\Temp\\ipykernel_16980\\4121384178.py:2: FutureWarning: The pandas.datetime class is deprecated and will be removed from pandas in a future version. Import from datetime module instead.\n",
      "  print(pd.datetime.now())\n"
     ]
    }
   ],
   "source": [
    "# Current time and date - Usse datetime module!\n",
    "print(pd.datetime.now())\n",
    "\n",
    "print(dt.datetime.now())"
   ]
  },
  {
   "cell_type": "code",
   "execution_count": 6,
   "metadata": {},
   "outputs": [
    {
     "name": "stdout",
     "output_type": "stream",
     "text": [
      "2017-03-01 00:00:00\n"
     ]
    }
   ],
   "source": [
    "# Timestamping\n",
    "print(pd.Timestamp('2017-03-01'))"
   ]
  },
  {
   "cell_type": "code",
   "execution_count": 9,
   "metadata": {},
   "outputs": [
    {
     "name": "stdout",
     "output_type": "stream",
     "text": [
      "2021-12-02 01:28:11\n"
     ]
    }
   ],
   "source": [
    "# Converting timestamp from seconds\n",
    "print(pd.Timestamp(1638408491,unit='s'))"
   ]
  },
  {
   "cell_type": "code",
   "execution_count": 13,
   "metadata": {},
   "outputs": [
    {
     "name": "stdout",
     "output_type": "stream",
     "text": [
      "[datetime.time(11, 0) datetime.time(11, 30) datetime.time(12, 0)\n",
      " datetime.time(12, 30) datetime.time(13, 0)]\n",
      "[datetime.time(11, 0) datetime.time(12, 0) datetime.time(13, 0)]\n"
     ]
    }
   ],
   "source": [
    "# Range of time and interval frequencies\n",
    "print(pd.date_range(\"11:00\", \"13:00\", freq=\"30min\").time)\n",
    "print(pd.date_range(\"11:00\", \"13:00\", freq=\"H\").time)"
   ]
  },
  {
   "cell_type": "code",
   "execution_count": 14,
   "metadata": {},
   "outputs": [
    {
     "name": "stdout",
     "output_type": "stream",
     "text": [
      "0   2000-02-13\n",
      "1   2022-06-15\n",
      "2          NaT\n",
      "dtype: datetime64[ns]\n"
     ]
    }
   ],
   "source": [
    "# Converting to timesstamps\n",
    "# NaT means Not a Time (Just like NaN)\n",
    "print(pd.to_datetime(pd.Series(['Feb 13, 2000','2022-06-15',None])))"
   ]
  }
 ],
 "metadata": {
  "kernelspec": {
   "display_name": "Python 3.10.4 64-bit",
   "language": "python",
   "name": "python3"
  },
  "language_info": {
   "codemirror_mode": {
    "name": "ipython",
    "version": 3
   },
   "file_extension": ".py",
   "mimetype": "text/x-python",
   "name": "python",
   "nbconvert_exporter": "python",
   "pygments_lexer": "ipython3",
   "version": "3.10.4"
  },
  "orig_nbformat": 4,
  "vscode": {
   "interpreter": {
    "hash": "c2e197f2615060b1320db884ce9dd642f21640f7e22d0399598310ef19776d1d"
   }
  }
 },
 "nbformat": 4,
 "nbformat_minor": 2
}
