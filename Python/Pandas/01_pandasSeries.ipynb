{
 "cells": [
  {
   "cell_type": "code",
   "execution_count": 1,
   "metadata": {},
   "outputs": [],
   "source": [
    "# Library Configurations\n",
    "import pandas as pd\n",
    "import numpy as np"
   ]
  },
  {
   "cell_type": "code",
   "execution_count": 2,
   "metadata": {},
   "outputs": [],
   "source": [
    "# In this lib, there would be 3 data structure that is in accordance to dimensions\n",
    "# Series - 1D \n",
    "# DataFrame - 2D\n",
    "# Panel - 3D\n",
    "\n",
    "# There is also Numpy Array"
   ]
  },
  {
   "cell_type": "code",
   "execution_count": 3,
   "metadata": {},
   "outputs": [
    {
     "name": "stdout",
     "output_type": "stream",
     "text": [
      "Series([], dtype: float64)\n"
     ]
    },
    {
     "name": "stderr",
     "output_type": "stream",
     "text": [
      "C:\\Users\\y50023848\\AppData\\Local\\Temp\\ipykernel_25240\\3550282676.py:2: FutureWarning: The default dtype for empty Series will be 'object' instead of 'float64' in a future version. Specify a dtype explicitly to silence this warning.\n",
      "  s1 = pd.Series()\n"
     ]
    }
   ],
   "source": [
    "# Pandas - Series\n",
    "s1 = pd.Series()\n",
    "print(s1)"
   ]
  },
  {
   "cell_type": "code",
   "execution_count": 4,
   "metadata": {},
   "outputs": [
    {
     "name": "stdout",
     "output_type": "stream",
     "text": [
      "0      Alpha\n",
      "1       Beta\n",
      "2      Gamma\n",
      "3      Delta\n",
      "4    Epsilon\n",
      "dtype: object\n"
     ]
    }
   ],
   "source": [
    "# Numpy Array can be appended into the series\n",
    "data = np.array(['Alpha','Beta','Gamma','Delta','Epsilon'])\n",
    "s1 = pd.Series(data)\n",
    "print(s1)"
   ]
  },
  {
   "cell_type": "code",
   "execution_count": 5,
   "metadata": {},
   "outputs": [
    {
     "name": "stdout",
     "output_type": "stream",
     "text": [
      "1939                     WW2\n",
      "1944                   D-Day\n",
      "1961             Bay of Pigs\n",
      "1962    Cuban Missile Crisis\n",
      "dtype: object\n"
     ]
    }
   ],
   "source": [
    "# Custom Index can also be configured\n",
    "data = np.array(['WW2','D-Day','Bay of Pigs','Cuban Missile Crisis'])\n",
    "s1 = pd.Series(data, index=[1939,1944,1961,1962])\n",
    "print(s1)"
   ]
  },
  {
   "cell_type": "code",
   "execution_count": 6,
   "metadata": {},
   "outputs": [
    {
     "name": "stdout",
     "output_type": "stream",
     "text": [
      "Alpha            Energized Helium\n",
      "Beta       Hypervelocity Electron\n",
      "Epsilon                       NaN\n",
      "Gamma       Supercharged EM Waves\n",
      "dtype: object\n"
     ]
    }
   ],
   "source": [
    "# Series can also be created from Dictionaries\n",
    "data = {'Alpha':'Energized Helium','Beta':'Hypervelocity Electron','Gamma':'Supercharged EM Waves'}\n",
    "s1 = pd.Series(data, index=['Alpha','Beta','Epsilon','Gamma'])\n",
    "print(s1)"
   ]
  },
  {
   "cell_type": "code",
   "execution_count": 7,
   "metadata": {},
   "outputs": [
    {
     "name": "stdout",
     "output_type": "stream",
     "text": [
      "0    420\n",
      "1    420\n",
      "2    420\n",
      "3    420\n",
      "dtype: int64\n"
     ]
    }
   ],
   "source": [
    "# Creating Scalar Series\n",
    "s1 = pd.Series(420, index=[0,1,2,3])\n",
    "print(s1)"
   ]
  },
  {
   "cell_type": "code",
   "execution_count": 11,
   "metadata": {},
   "outputs": [
    {
     "name": "stdout",
     "output_type": "stream",
     "text": [
      "1\n",
      "a    1\n",
      "b    2\n",
      "c    3\n",
      "dtype: int64\n",
      "c    3\n",
      "d    4\n",
      "e    5\n",
      "dtype: int64\n"
     ]
    }
   ],
   "source": [
    "# Accessing Series Data via Position\n",
    "# Slicing also works here, but gets the index too\n",
    "s1 = pd.Series([1,2,3,4,5],index=['a','b','c','d','e'])\n",
    "print(s1[0])\n",
    "print(s1[:3])\n",
    "print(s1[-3:])\n"
   ]
  },
  {
   "cell_type": "code",
   "execution_count": 13,
   "metadata": {},
   "outputs": [
    {
     "name": "stdout",
     "output_type": "stream",
     "text": [
      "1\n",
      "a    1\n",
      "c    3\n",
      "d    4\n",
      "dtype: int64\n"
     ]
    }
   ],
   "source": [
    "# Retrieving using label\n",
    "print(s1['a'])\n",
    "print(s1[['a','c','d']])"
   ]
  }
 ],
 "metadata": {
  "interpreter": {
   "hash": "c2e197f2615060b1320db884ce9dd642f21640f7e22d0399598310ef19776d1d"
  },
  "kernelspec": {
   "display_name": "Python 3.10.4 64-bit",
   "language": "python",
   "name": "python3"
  },
  "language_info": {
   "codemirror_mode": {
    "name": "ipython",
    "version": 3
   },
   "file_extension": ".py",
   "mimetype": "text/x-python",
   "name": "python",
   "nbconvert_exporter": "python",
   "pygments_lexer": "ipython3",
   "version": "3.10.4"
  },
  "orig_nbformat": 4
 },
 "nbformat": 4,
 "nbformat_minor": 2
}
