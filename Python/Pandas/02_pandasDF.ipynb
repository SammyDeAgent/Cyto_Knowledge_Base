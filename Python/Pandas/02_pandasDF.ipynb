{
 "cells": [
  {
   "cell_type": "code",
   "execution_count": 1,
   "metadata": {},
   "outputs": [],
   "source": [
    "# Library Configurations\n",
    "import pandas as pd\n",
    "import numpy as np"
   ]
  },
  {
   "cell_type": "code",
   "execution_count": 2,
   "metadata": {},
   "outputs": [
    {
     "name": "stdout",
     "output_type": "stream",
     "text": [
      "Empty DataFrame\n",
      "Columns: []\n",
      "Index: []\n"
     ]
    }
   ],
   "source": [
    "# Pandas - Dataframe\n",
    "# Think of it as SQL Tables\n",
    "df = pd.DataFrame()\n",
    "print(df)"
   ]
  },
  {
   "cell_type": "code",
   "execution_count": 3,
   "metadata": {},
   "outputs": [
    {
     "name": "stdout",
     "output_type": "stream",
     "text": [
      "   0\n",
      "0  1\n",
      "1  2\n",
      "2  3\n",
      "3  4\n",
      "4  5\n"
     ]
    }
   ],
   "source": [
    "# Creating DF via Lists\n",
    "data = [1,2,3,4,5]\n",
    "df = pd.DataFrame(data)\n",
    "print(df)"
   ]
  },
  {
   "cell_type": "code",
   "execution_count": 5,
   "metadata": {},
   "outputs": [
    {
     "name": "stdout",
     "output_type": "stream",
     "text": [
      "             Name Nationality  Age\n",
      "0     John Carmer         USA   51\n",
      "1  Hector Vickers      Canada   24\n",
      "2      Albert Kor         USA   27\n"
     ]
    }
   ],
   "source": [
    "# Customizable Attribute Headers\n",
    "data = [['John Carmer','USA',51],['Hector Vickers','Canada',24],['Albert Kor','USA',27]]\n",
    "df = pd.DataFrame(data, columns=['Name','Nationality','Age'])\n",
    "print(df)"
   ]
  },
  {
   "cell_type": "code",
   "execution_count": 8,
   "metadata": {},
   "outputs": [
    {
     "name": "stdout",
     "output_type": "stream",
     "text": [
      "       Company    Assets\n",
      "0   Apple Inc.  450000.0\n",
      "1  Huawei Corp   56000.0\n",
      "2    Microsoft   54500.0\n"
     ]
    },
    {
     "name": "stderr",
     "output_type": "stream",
     "text": [
      "C:\\Users\\y50023848\\AppData\\Local\\Temp\\ipykernel_1196\\2823701242.py:3: FutureWarning: Could not cast to float64, falling back to object. This behavior is deprecated. In a future version, when a dtype is passed to 'DataFrame', either all columns will be cast to that dtype, or a TypeError will be raised.\n",
      "  df = pd.DataFrame(data, columns=['Company','Assets'], dtype=float)\n"
     ]
    }
   ],
   "source": [
    "# Floating point variable\n",
    "data = [['Apple Inc.',450000],['Huawei Corp',56000],['Microsoft',54500]]\n",
    "df = pd.DataFrame(data, columns=['Company','Assets'], dtype=float)\n",
    "print(df)"
   ]
  },
  {
   "cell_type": "code",
   "execution_count": 9,
   "metadata": {},
   "outputs": [
    {
     "name": "stdout",
     "output_type": "stream",
     "text": [
      "      Nations  Element\n",
      "0  Mondstandt    Anemo\n",
      "1       Liyue      Geo\n",
      "2     Inazuma  Electro\n"
     ]
    }
   ],
   "source": [
    "# Creating data from Dictionaries of Np Arrays or Lists\n",
    "data = {'Nations':['Mondstandt','Liyue','Inazuma'],'Element':['Anemo','Geo','Electro']}\n",
    "df = pd.DataFrame(data)\n",
    "print(df)"
   ]
  },
  {
   "cell_type": "code",
   "execution_count": 11,
   "metadata": {},
   "outputs": [
    {
     "name": "stdout",
     "output_type": "stream",
     "text": [
      "                   Nations  Element\n",
      "Barbatos        Mondstandt    Anemo\n",
      "Morax                Liyue      Geo\n",
      "Baal/Beezelbul     Inazuma  Electro\n"
     ]
    }
   ],
   "source": [
    "# Index can be customized\n",
    "data = {'Nations':['Mondstandt','Liyue','Inazuma'],'Element':['Anemo','Geo','Electro']}\n",
    "df = pd.DataFrame(data, index=['Barbatos','Morax','Baal/Beezelbul'])\n",
    "print(df)"
   ]
  },
  {
   "cell_type": "code",
   "execution_count": 15,
   "metadata": {},
   "outputs": [
    {
     "name": "stdout",
     "output_type": "stream",
     "text": [
      "            C   B   A   S\n",
      "Class 1   NaN  56  13 NaN\n",
      "Class 2  71.0  61  45 NaN\n"
     ]
    }
   ],
   "source": [
    "# Creating DF from Lists of Dicts\n",
    "data = [{'A':13,'B':56},{'A':45,'B':61,'C':71}]\n",
    "df = pd.DataFrame(data, index=['Class 1', 'Class 2'], columns=['C','B','A','S'])\n",
    "print(df)"
   ]
  },
  {
   "cell_type": "code",
   "execution_count": 16,
   "metadata": {},
   "outputs": [
    {
     "name": "stdout",
     "output_type": "stream",
     "text": [
      "    one  two\n",
      "A  T150    1\n",
      "B  R158    2\n",
      "C  K106    3\n",
      "D   NaN    4\n"
     ]
    }
   ],
   "source": [
    "# Creating DF from Dictionaries of Series\n",
    "d = {\n",
    "  'one': pd.Series(['T150','R158','K106'],index=['A','B','C']),\n",
    "  'two': pd.Series([1,2,3,4], index=['A','B','C','D'])\n",
    "}\n",
    "df = pd.DataFrame(d)\n",
    "print(df)"
   ]
  },
  {
   "cell_type": "code",
   "execution_count": 18,
   "metadata": {},
   "outputs": [
    {
     "name": "stdout",
     "output_type": "stream",
     "text": [
      "Barbatos          Mondstandt\n",
      "Morax                  Liyue\n",
      "Baal/Beezelbul       Inazuma\n",
      "Name: Nations, dtype: object\n"
     ]
    }
   ],
   "source": [
    "# DF Column Selection\n",
    "data = {'Nations':['Mondstandt','Liyue','Inazuma'],'Element':['Anemo','Geo','Electro']}\n",
    "df = pd.DataFrame(data, index=['Barbatos','Morax','Baal/Beezelbul'])\n",
    "print(df['Nations'])"
   ]
  },
  {
   "cell_type": "code",
   "execution_count": 28,
   "metadata": {},
   "outputs": [
    {
     "name": "stdout",
     "output_type": "stream",
     "text": [
      "                   Nations  Element Archon Mortal Name\n",
      "Barbatos        Mondstandt    Anemo              Venti\n",
      "Morax                Liyue      Geo            Zhongli\n",
      "Baal/Beezelbul     Inazuma  Electro                 Ei\n"
     ]
    }
   ],
   "source": [
    "# DF Column Additions\n",
    "df['Archon Mortal Name'] = pd.Series(\n",
    "  ['Venti','Zhongli','Ei'],\n",
    "  index=['Barbatos','Morax','Baal/Beezelbul']\n",
    ")\n",
    "print(df)"
   ]
  },
  {
   "cell_type": "code",
   "execution_count": 29,
   "metadata": {},
   "outputs": [
    {
     "name": "stdout",
     "output_type": "stream",
     "text": [
      "                   Nations  Element Archon Mortal Name             What\n",
      "Barbatos        Mondstandt    Anemo              Venti  MondstandtAnemo\n",
      "Morax                Liyue      Geo            Zhongli         LiyueGeo\n",
      "Baal/Beezelbul     Inazuma  Electro                 Ei   InazumaElectro\n"
     ]
    }
   ],
   "source": [
    "# DF Column Literal Addition\n",
    "# Works with numbers and float too\n",
    "df['What']=df['Nations']+df['Element']\n",
    "print(df)"
   ]
  },
  {
   "cell_type": "code",
   "execution_count": 30,
   "metadata": {},
   "outputs": [
    {
     "name": "stdout",
     "output_type": "stream",
     "text": [
      "                   Nations  Element Archon Mortal Name\n",
      "Barbatos        Mondstandt    Anemo              Venti\n",
      "Morax                Liyue      Geo            Zhongli\n",
      "Baal/Beezelbul     Inazuma  Electro                 Ei\n",
      "                   Nations  Element\n",
      "Barbatos        Mondstandt    Anemo\n",
      "Morax                Liyue      Geo\n",
      "Baal/Beezelbul     Inazuma  Electro\n"
     ]
    }
   ],
   "source": [
    "# DF Column Deletion\n",
    "del(df['What'])\n",
    "print(df)\n",
    "\n",
    "df.pop('Archon Mortal Name')\n",
    "print(df)"
   ]
  },
  {
   "cell_type": "code",
   "execution_count": 32,
   "metadata": {},
   "outputs": [
    {
     "name": "stdout",
     "output_type": "stream",
     "text": [
      "Nations    Liyue\n",
      "Element      Geo\n",
      "Name: Morax, dtype: object\n"
     ]
    }
   ],
   "source": [
    "# DF Row Selection\n",
    "print(df.loc['Morax'])"
   ]
  },
  {
   "cell_type": "code",
   "execution_count": 34,
   "metadata": {},
   "outputs": [
    {
     "name": "stdout",
     "output_type": "stream",
     "text": [
      "Nations    Mondstandt\n",
      "Element         Anemo\n",
      "Name: Barbatos, dtype: object\n"
     ]
    }
   ],
   "source": [
    "# DF Row Selection via integer index\n",
    "print(df.iloc[0])"
   ]
  },
  {
   "cell_type": "code",
   "execution_count": 37,
   "metadata": {},
   "outputs": [
    {
     "name": "stdout",
     "output_type": "stream",
     "text": [
      "                Nations  Element\n",
      "Morax             Liyue      Geo\n",
      "Baal/Beezelbul  Inazuma  Electro\n"
     ]
    }
   ],
   "source": [
    "# DF Row Slicing\n",
    "print(df[1:3])"
   ]
  },
  {
   "cell_type": "code",
   "execution_count": 38,
   "metadata": {},
   "outputs": [
    {
     "name": "stdout",
     "output_type": "stream",
     "text": [
      "                   Nations  Element\n",
      "Barbatos        Mondstandt    Anemo\n",
      "Morax                Liyue      Geo\n",
      "Baal/Beezelbul     Inazuma  Electro\n",
      "0                   Sumeru   Dendro\n",
      "1                 Fontaine    Hydro\n"
     ]
    },
    {
     "name": "stderr",
     "output_type": "stream",
     "text": [
      "C:\\Users\\y50023848\\AppData\\Local\\Temp\\ipykernel_1196\\2950863120.py:9: FutureWarning: The frame.append method is deprecated and will be removed from pandas in a future version. Use pandas.concat instead.\n",
      "  df = df.append(df2)\n"
     ]
    }
   ],
   "source": [
    "# DF Row Addition\n",
    "df2 = pd.DataFrame(\n",
    "  [\n",
    "    ['Sumeru','Dendro'],\n",
    "    ['Fontaine','Hydro']\n",
    "  ]\n",
    "  ,columns=['Nations','Element']\n",
    ")\n",
    "df = df.append(df2)\n",
    "print(df)"
   ]
  },
  {
   "cell_type": "code",
   "execution_count": 39,
   "metadata": {},
   "outputs": [
    {
     "name": "stdout",
     "output_type": "stream",
     "text": [
      "                   Nations  Element\n",
      "Barbatos        Mondstandt    Anemo\n",
      "Baal/Beezelbul     Inazuma  Electro\n",
      "0                   Sumeru   Dendro\n",
      "1                 Fontaine    Hydro\n"
     ]
    }
   ],
   "source": [
    "# DF Row Deletion via label\n",
    "df = df.drop('Morax')\n",
    "print(df)"
   ]
  }
 ],
 "metadata": {
  "interpreter": {
   "hash": "c2e197f2615060b1320db884ce9dd642f21640f7e22d0399598310ef19776d1d"
  },
  "kernelspec": {
   "display_name": "Python 3.10.4 64-bit",
   "language": "python",
   "name": "python3"
  },
  "language_info": {
   "codemirror_mode": {
    "name": "ipython",
    "version": 3
   },
   "file_extension": ".py",
   "mimetype": "text/x-python",
   "name": "python",
   "nbconvert_exporter": "python",
   "pygments_lexer": "ipython3",
   "version": "3.10.4"
  },
  "orig_nbformat": 4
 },
 "nbformat": 4,
 "nbformat_minor": 2
}
