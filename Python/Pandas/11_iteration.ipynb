{
 "cells": [
  {
   "cell_type": "code",
   "execution_count": 2,
   "metadata": {},
   "outputs": [],
   "source": [
    "# Library Configurations\n",
    "import pandas as pd\n",
    "import numpy as np\n",
    "import datetime as dt"
   ]
  },
  {
   "cell_type": "code",
   "execution_count": 3,
   "metadata": {},
   "outputs": [
    {
     "name": "stdout",
     "output_type": "stream",
     "text": [
      "                               Name      Type        Stat  Percentage  BaseATK\n",
      "0             Redhorn Stonethresher  Claymore   Crit DMG%        88.2      542\n",
      "1                Engulfing Lighting   Polearm         ER%        55.1      608\n",
      "2                  Wolfs Gravestone  Claymore        ATK%        49.6      608\n",
      "3   Lost Prayers to the Sacred Wind  Catalyst  Crit Rate%        33.1      608\n",
      "4                      Skyward Harp       Bow  Crit Rate%        22.1      674\n",
      "5               Haran Geppaku Futsu     Sword  Crit Rate%        33.1      608\n",
      "6                          Amos Bow       Bow        ATK%        49.6      608\n",
      "7              Everlasting Moonglow  Catalyst         HP%        49.6      608\n",
      "8                     Staff of Homa   Polearm   Crit DMG%        66.2      608\n",
      "9             Primodial Jade Cutter     Sword  Crit Rate%        44.1      542\n",
      "10                   Kaguras Verity  Catalyst   Crit DMG%        66.2      608\n",
      "11             Song of Broken Pines  Claymore    Phy DMG%        20.7      741\n"
     ]
    }
   ],
   "source": [
    "df1 = pd.DataFrame({\n",
    "  'Name': pd.Series(['Redhorn Stonethresher','Engulfing Lighting','Wolfs Gravestone','Lost Prayers to the Sacred Wind','Skyward Harp','Haran Geppaku Futsu']),\n",
    "  'Type': pd.Series(['Claymore','Polearm','Claymore','Catalyst','Bow','Sword']),\n",
    "  'Stat': pd.Series(['Crit DMG%','ER%','ATK%','Crit Rate%','Crit Rate%','Crit Rate%']),\n",
    "  'Percentage': pd.Series([88.2,55.1,49.6,33.1, 22.1, 33.1]),\n",
    "  'BaseATK': pd.Series([542,608,608,608,674,608])\n",
    "})\n",
    "\n",
    "df2 = pd.DataFrame({\n",
    "  'Name': pd.Series(['Amos Bow','Everlasting Moonglow','Staff of Homa','Primodial Jade Cutter','Kaguras Verity','Song of Broken Pines']),\n",
    "  'Type': pd.Series(['Bow','Catalyst','Polearm','Sword','Catalyst','Claymore']),\n",
    "  'Stat': pd.Series(['ATK%','HP%','Crit DMG%','Crit Rate%','Crit DMG%','Phy DMG%']),\n",
    "  'Percentage': pd.Series([49.6,49.6,66.2,44.1,66.2,20.7]),\n",
    "  'BaseATK': pd.Series([608,608,608,542,608,741])\n",
    "})\n",
    "\n",
    "df = pd.concat([df1,df2], ignore_index=True)\n",
    "print(df)"
   ]
  },
  {
   "cell_type": "code",
   "execution_count": 4,
   "metadata": {},
   "outputs": [
    {
     "name": "stdout",
     "output_type": "stream",
     "text": [
      "Name\n",
      "Type\n",
      "Stat\n",
      "Percentage\n",
      "BaseATK\n"
     ]
    }
   ],
   "source": [
    "# Iterating the attributes\n",
    "for col in df:\n",
    "  print(col)"
   ]
  },
  {
   "cell_type": "code",
   "execution_count": 5,
   "metadata": {},
   "outputs": [
    {
     "name": "stdout",
     "output_type": "stream",
     "text": [
      "Name - 0               Redhorn Stonethresher\n",
      "1                  Engulfing Lighting\n",
      "2                    Wolfs Gravestone\n",
      "3     Lost Prayers to the Sacred Wind\n",
      "4                        Skyward Harp\n",
      "5                 Haran Geppaku Futsu\n",
      "6                            Amos Bow\n",
      "7                Everlasting Moonglow\n",
      "8                       Staff of Homa\n",
      "9               Primodial Jade Cutter\n",
      "10                     Kaguras Verity\n",
      "11               Song of Broken Pines\n",
      "Name: Name, dtype: object\n",
      "Type - 0     Claymore\n",
      "1      Polearm\n",
      "2     Claymore\n",
      "3     Catalyst\n",
      "4          Bow\n",
      "5        Sword\n",
      "6          Bow\n",
      "7     Catalyst\n",
      "8      Polearm\n",
      "9        Sword\n",
      "10    Catalyst\n",
      "11    Claymore\n",
      "Name: Type, dtype: object\n",
      "Stat - 0      Crit DMG%\n",
      "1            ER%\n",
      "2           ATK%\n",
      "3     Crit Rate%\n",
      "4     Crit Rate%\n",
      "5     Crit Rate%\n",
      "6           ATK%\n",
      "7            HP%\n",
      "8      Crit DMG%\n",
      "9     Crit Rate%\n",
      "10     Crit DMG%\n",
      "11      Phy DMG%\n",
      "Name: Stat, dtype: object\n",
      "Percentage - 0     88.2\n",
      "1     55.1\n",
      "2     49.6\n",
      "3     33.1\n",
      "4     22.1\n",
      "5     33.1\n",
      "6     49.6\n",
      "7     49.6\n",
      "8     66.2\n",
      "9     44.1\n",
      "10    66.2\n",
      "11    20.7\n",
      "Name: Percentage, dtype: float64\n",
      "BaseATK - 0     542\n",
      "1     608\n",
      "2     608\n",
      "3     608\n",
      "4     674\n",
      "5     608\n",
      "6     608\n",
      "7     608\n",
      "8     608\n",
      "9     542\n",
      "10    608\n",
      "11    741\n",
      "Name: BaseATK, dtype: int64\n"
     ]
    }
   ],
   "source": [
    "# Iterating the items\n",
    "for key, values in df.iteritems():\n",
    "  print(f\"{key} - {values}\")"
   ]
  },
  {
   "cell_type": "code",
   "execution_count": 6,
   "metadata": {},
   "outputs": [
    {
     "name": "stdout",
     "output_type": "stream",
     "text": [
      "0 - Name          Redhorn Stonethresher\n",
      "Type                       Claymore\n",
      "Stat                      Crit DMG%\n",
      "Percentage                     88.2\n",
      "BaseATK                         542\n",
      "Name: 0, dtype: object\n",
      "1 - Name          Engulfing Lighting\n",
      "Type                     Polearm\n",
      "Stat                         ER%\n",
      "Percentage                  55.1\n",
      "BaseATK                      608\n",
      "Name: 1, dtype: object\n",
      "2 - Name          Wolfs Gravestone\n",
      "Type                  Claymore\n",
      "Stat                      ATK%\n",
      "Percentage                49.6\n",
      "BaseATK                    608\n",
      "Name: 2, dtype: object\n",
      "3 - Name          Lost Prayers to the Sacred Wind\n",
      "Type                                 Catalyst\n",
      "Stat                               Crit Rate%\n",
      "Percentage                               33.1\n",
      "BaseATK                                   608\n",
      "Name: 3, dtype: object\n",
      "4 - Name          Skyward Harp\n",
      "Type                   Bow\n",
      "Stat            Crit Rate%\n",
      "Percentage            22.1\n",
      "BaseATK                674\n",
      "Name: 4, dtype: object\n",
      "5 - Name          Haran Geppaku Futsu\n",
      "Type                        Sword\n",
      "Stat                   Crit Rate%\n",
      "Percentage                   33.1\n",
      "BaseATK                       608\n",
      "Name: 5, dtype: object\n",
      "6 - Name          Amos Bow\n",
      "Type               Bow\n",
      "Stat              ATK%\n",
      "Percentage        49.6\n",
      "BaseATK            608\n",
      "Name: 6, dtype: object\n",
      "7 - Name          Everlasting Moonglow\n",
      "Type                      Catalyst\n",
      "Stat                           HP%\n",
      "Percentage                    49.6\n",
      "BaseATK                        608\n",
      "Name: 7, dtype: object\n",
      "8 - Name          Staff of Homa\n",
      "Type                Polearm\n",
      "Stat              Crit DMG%\n",
      "Percentage             66.2\n",
      "BaseATK                 608\n",
      "Name: 8, dtype: object\n",
      "9 - Name          Primodial Jade Cutter\n",
      "Type                          Sword\n",
      "Stat                     Crit Rate%\n",
      "Percentage                     44.1\n",
      "BaseATK                         542\n",
      "Name: 9, dtype: object\n",
      "10 - Name          Kaguras Verity\n",
      "Type                Catalyst\n",
      "Stat               Crit DMG%\n",
      "Percentage              66.2\n",
      "BaseATK                  608\n",
      "Name: 10, dtype: object\n",
      "11 - Name          Song of Broken Pines\n",
      "Type                      Claymore\n",
      "Stat                      Phy DMG%\n",
      "Percentage                    20.7\n",
      "BaseATK                        741\n",
      "Name: 11, dtype: object\n"
     ]
    }
   ],
   "source": [
    "# Iterating the rows\n",
    "for row_index, row in df.iterrows():\n",
    "  print(f\"{row_index} - {row}\")"
   ]
  },
  {
   "cell_type": "code",
   "execution_count": 7,
   "metadata": {},
   "outputs": [
    {
     "name": "stdout",
     "output_type": "stream",
     "text": [
      "Pandas(Index=0, Name='Redhorn Stonethresher', Type='Claymore', Stat='Crit DMG%', Percentage=88.2, BaseATK=542)\n",
      "Pandas(Index=1, Name='Engulfing Lighting', Type='Polearm', Stat='ER%', Percentage=55.1, BaseATK=608)\n",
      "Pandas(Index=2, Name='Wolfs Gravestone', Type='Claymore', Stat='ATK%', Percentage=49.6, BaseATK=608)\n",
      "Pandas(Index=3, Name='Lost Prayers to the Sacred Wind', Type='Catalyst', Stat='Crit Rate%', Percentage=33.1, BaseATK=608)\n",
      "Pandas(Index=4, Name='Skyward Harp', Type='Bow', Stat='Crit Rate%', Percentage=22.1, BaseATK=674)\n",
      "Pandas(Index=5, Name='Haran Geppaku Futsu', Type='Sword', Stat='Crit Rate%', Percentage=33.1, BaseATK=608)\n",
      "Pandas(Index=6, Name='Amos Bow', Type='Bow', Stat='ATK%', Percentage=49.6, BaseATK=608)\n",
      "Pandas(Index=7, Name='Everlasting Moonglow', Type='Catalyst', Stat='HP%', Percentage=49.6, BaseATK=608)\n",
      "Pandas(Index=8, Name='Staff of Homa', Type='Polearm', Stat='Crit DMG%', Percentage=66.2, BaseATK=608)\n",
      "Pandas(Index=9, Name='Primodial Jade Cutter', Type='Sword', Stat='Crit Rate%', Percentage=44.1, BaseATK=542)\n",
      "Pandas(Index=10, Name='Kaguras Verity', Type='Catalyst', Stat='Crit DMG%', Percentage=66.2, BaseATK=608)\n",
      "Pandas(Index=11, Name='Song of Broken Pines', Type='Claymore', Stat='Phy DMG%', Percentage=20.7, BaseATK=741)\n"
     ]
    }
   ],
   "source": [
    "# Iterating and returning a tuple\n",
    "for row in df.itertuples():\n",
    "  print(row)"
   ]
  },
  {
   "cell_type": "code",
   "execution_count": null,
   "metadata": {},
   "outputs": [],
   "source": [
    "# Kept in mind that modifying a iteration does not reflect the actual data frame"
   ]
  }
 ],
 "metadata": {
  "kernelspec": {
   "display_name": "Python 3.10.4 64-bit",
   "language": "python",
   "name": "python3"
  },
  "language_info": {
   "codemirror_mode": {
    "name": "ipython",
    "version": 3
   },
   "file_extension": ".py",
   "mimetype": "text/x-python",
   "name": "python",
   "nbconvert_exporter": "python",
   "pygments_lexer": "ipython3",
   "version": "3.10.4"
  },
  "orig_nbformat": 4,
  "vscode": {
   "interpreter": {
    "hash": "c2e197f2615060b1320db884ce9dd642f21640f7e22d0399598310ef19776d1d"
   }
  }
 },
 "nbformat": 4,
 "nbformat_minor": 2
}
