{
 "cells": [
  {
   "cell_type": "code",
   "execution_count": 2,
   "metadata": {},
   "outputs": [],
   "source": [
    "# Library Configurations\n",
    "import pandas as pd\n",
    "import numpy as np"
   ]
  },
  {
   "cell_type": "code",
   "execution_count": 3,
   "metadata": {},
   "outputs": [
    {
     "name": "stdout",
     "output_type": "stream",
     "text": [
      "0   -1.205782\n",
      "1   -0.170720\n",
      "2    0.550136\n",
      "3   -1.794636\n",
      "dtype: float64\n"
     ]
    }
   ],
   "source": [
    "# Series - Basic Functionalities\n",
    "s = pd.Series(np.random.randn(4))\n",
    "print(s)"
   ]
  },
  {
   "cell_type": "code",
   "execution_count": 4,
   "metadata": {},
   "outputs": [
    {
     "name": "stdout",
     "output_type": "stream",
     "text": [
      "[RangeIndex(start=0, stop=4, step=1)]\n"
     ]
    }
   ],
   "source": [
    "# Axes, returns the list of labels\n",
    "print(s.axes)"
   ]
  },
  {
   "cell_type": "code",
   "execution_count": 5,
   "metadata": {},
   "outputs": [
    {
     "name": "stdout",
     "output_type": "stream",
     "text": [
      "False\n"
     ]
    }
   ],
   "source": [
    "# Is Empty? Fx\n",
    "print(s.empty)"
   ]
  },
  {
   "cell_type": "code",
   "execution_count": 6,
   "metadata": {},
   "outputs": [
    {
     "name": "stdout",
     "output_type": "stream",
     "text": [
      "1\n"
     ]
    }
   ],
   "source": [
    "# ndim returns the dimension of a data structure\n",
    "print(s.ndim)"
   ]
  },
  {
   "cell_type": "code",
   "execution_count": 7,
   "metadata": {},
   "outputs": [
    {
     "name": "stdout",
     "output_type": "stream",
     "text": [
      "4\n"
     ]
    }
   ],
   "source": [
    "# size returns the len of a data structure\n",
    "print(s.size)"
   ]
  },
  {
   "cell_type": "code",
   "execution_count": 8,
   "metadata": {},
   "outputs": [
    {
     "name": "stdout",
     "output_type": "stream",
     "text": [
      "[-1.20578227 -0.17072003  0.55013573 -1.79463611]\n"
     ]
    }
   ],
   "source": [
    "# Values returns the values\n",
    "print(s.values)"
   ]
  },
  {
   "cell_type": "code",
   "execution_count": 9,
   "metadata": {},
   "outputs": [
    {
     "name": "stdout",
     "output_type": "stream",
     "text": [
      "0   -1.205782\n",
      "1   -0.170720\n",
      "dtype: float64\n",
      "3   -1.794636\n",
      "dtype: float64\n"
     ]
    }
   ],
   "source": [
    "# Head and Tail methods\n",
    "print(s.head(2))\n",
    "print(s.tail(1))"
   ]
  },
  {
   "cell_type": "code",
   "execution_count": 11,
   "metadata": {},
   "outputs": [
    {
     "name": "stdout",
     "output_type": "stream",
     "text": [
      "                              Name      Type        Stat  Percentage\n",
      "0            Redhorn Stonethresher  Claymore   Crit DMG%        88.2\n",
      "1               Engulfing Lighting   Polearm         ER%        55.1\n",
      "2                 Wolfs Gravestone  Claymore        ATK%        49.6\n",
      "3  Lost Prayers to the Sacred Wind  Catalyst  Crit Rate%        33.1\n",
      "4                     Skyward Harp       Bow  Crit Rate%        22.1\n",
      "5              Haran Geppaku Futsu     Sword  Crit Rate%        33.1\n"
     ]
    }
   ],
   "source": [
    "# DataFrame - Basic Functionalities\n",
    "d = {\n",
    "  'Name': pd.Series(['Redhorn Stonethresher','Engulfing Lighting','Wolfs Gravestone','Lost Prayers to the Sacred Wind','Skyward Harp','Haran Geppaku Futsu']),\n",
    "  'Type': pd.Series(['Claymore','Polearm','Claymore','Catalyst','Bow','Sword']),\n",
    "  'Stat': pd.Series(['Crit DMG%','ER%','ATK%','Crit Rate%','Crit Rate%','Crit Rate%']),\n",
    "  'Percentage': pd.Series([88.2,55.1,49.6,33.1, 22.1, 33.1])\n",
    "}\n",
    "\n",
    "df = pd.DataFrame(d)\n",
    "print(df)"
   ]
  },
  {
   "cell_type": "code",
   "execution_count": 13,
   "metadata": {},
   "outputs": [
    {
     "name": "stdout",
     "output_type": "stream",
     "text": [
      "                                0                   1                 2  \\\n",
      "Name        Redhorn Stonethresher  Engulfing Lighting  Wolfs Gravestone   \n",
      "Type                     Claymore             Polearm          Claymore   \n",
      "Stat                    Crit DMG%                 ER%              ATK%   \n",
      "Percentage                   88.2                55.1              49.6   \n",
      "\n",
      "                                          3             4                    5  \n",
      "Name        Lost Prayers to the Sacred Wind  Skyward Harp  Haran Geppaku Futsu  \n",
      "Type                               Catalyst           Bow                Sword  \n",
      "Stat                             Crit Rate%    Crit Rate%           Crit Rate%  \n",
      "Percentage                             33.1          22.1                 33.1  \n"
     ]
    }
   ],
   "source": [
    "# Dataframe Transpose\n",
    "# Interchanging the rows and columns\n",
    "print(df.T)"
   ]
  },
  {
   "cell_type": "code",
   "execution_count": 16,
   "metadata": {},
   "outputs": [
    {
     "name": "stdout",
     "output_type": "stream",
     "text": [
      "[RangeIndex(start=0, stop=6, step=1), Index(['Name', 'Type', 'Stat', 'Percentage'], dtype='object')]\n"
     ]
    }
   ],
   "source": [
    "# Axes return the list of row axis and column axis labels\n",
    "print(df.axes)"
   ]
  },
  {
   "cell_type": "code",
   "execution_count": 17,
   "metadata": {},
   "outputs": [
    {
     "name": "stdout",
     "output_type": "stream",
     "text": [
      "Name           object\n",
      "Type           object\n",
      "Stat           object\n",
      "Percentage    float64\n",
      "dtype: object\n"
     ]
    }
   ],
   "source": [
    "# dtype returns the data type of each column\n",
    "print(df.dtypes)"
   ]
  },
  {
   "cell_type": "code",
   "execution_count": 19,
   "metadata": {},
   "outputs": [
    {
     "name": "stdout",
     "output_type": "stream",
     "text": [
      "False\n"
     ]
    }
   ],
   "source": [
    "# Is this df empty?\n",
    "print(df.empty)"
   ]
  },
  {
   "cell_type": "code",
   "execution_count": 20,
   "metadata": {},
   "outputs": [
    {
     "name": "stdout",
     "output_type": "stream",
     "text": [
      "2\n"
     ]
    }
   ],
   "source": [
    "# ndim returns the dimension, in this case it will be a 2D structure\n",
    "print(df.ndim)"
   ]
  },
  {
   "cell_type": "code",
   "execution_count": 21,
   "metadata": {},
   "outputs": [
    {
     "name": "stdout",
     "output_type": "stream",
     "text": [
      "                              Name      Type        Stat  Percentage\n",
      "0            Redhorn Stonethresher  Claymore   Crit DMG%        88.2\n",
      "1               Engulfing Lighting   Polearm         ER%        55.1\n",
      "2                 Wolfs Gravestone  Claymore        ATK%        49.6\n",
      "3  Lost Prayers to the Sacred Wind  Catalyst  Crit Rate%        33.1\n",
      "4                     Skyward Harp       Bow  Crit Rate%        22.1\n",
      "5              Haran Geppaku Futsu     Sword  Crit Rate%        33.1\n",
      "(6, 4)\n"
     ]
    }
   ],
   "source": [
    "# Shape returns a tuple of the DF that represents the dimensionality\n",
    "# returns (x,y) -> (rows, columns)\n",
    "print(df)\n",
    "print(df.shape)"
   ]
  },
  {
   "cell_type": "code",
   "execution_count": 22,
   "metadata": {},
   "outputs": [
    {
     "name": "stdout",
     "output_type": "stream",
     "text": [
      "24\n"
     ]
    }
   ],
   "source": [
    "# Size returns the size of the DF -> (rows * columns): data fields\n",
    "print(df.size)"
   ]
  },
  {
   "cell_type": "code",
   "execution_count": 24,
   "metadata": {},
   "outputs": [
    {
     "name": "stdout",
     "output_type": "stream",
     "text": [
      "                              Name      Type        Stat  Percentage\n",
      "0            Redhorn Stonethresher  Claymore   Crit DMG%        88.2\n",
      "1               Engulfing Lighting   Polearm         ER%        55.1\n",
      "2                 Wolfs Gravestone  Claymore        ATK%        49.6\n",
      "3  Lost Prayers to the Sacred Wind  Catalyst  Crit Rate%        33.1\n",
      "4                     Skyward Harp       Bow  Crit Rate%        22.1\n",
      "5              Haran Geppaku Futsu     Sword  Crit Rate%        33.1\n",
      "[['Redhorn Stonethresher' 'Claymore' 'Crit DMG%' 88.2]\n",
      " ['Engulfing Lighting' 'Polearm' 'ER%' 55.1]\n",
      " ['Wolfs Gravestone' 'Claymore' 'ATK%' 49.6]\n",
      " ['Lost Prayers to the Sacred Wind' 'Catalyst' 'Crit Rate%' 33.1]\n",
      " ['Skyward Harp' 'Bow' 'Crit Rate%' 22.1]\n",
      " ['Haran Geppaku Futsu' 'Sword' 'Crit Rate%' 33.1]]\n"
     ]
    }
   ],
   "source": [
    "# Values returns the actual data as NDarray\n",
    "print(df)\n",
    "print(df.values)"
   ]
  },
  {
   "cell_type": "code",
   "execution_count": 25,
   "metadata": {},
   "outputs": [
    {
     "name": "stdout",
     "output_type": "stream",
     "text": [
      "                    Name      Type       Stat  Percentage\n",
      "0  Redhorn Stonethresher  Claymore  Crit DMG%        88.2\n",
      "1     Engulfing Lighting   Polearm        ER%        55.1\n",
      "                  Name   Type        Stat  Percentage\n",
      "5  Haran Geppaku Futsu  Sword  Crit Rate%        33.1\n"
     ]
    }
   ],
   "source": [
    "# Head and Tails\n",
    "print(df.head(2))\n",
    "print(df.tail(1))"
   ]
  }
 ],
 "metadata": {
  "interpreter": {
   "hash": "c2e197f2615060b1320db884ce9dd642f21640f7e22d0399598310ef19776d1d"
  },
  "kernelspec": {
   "display_name": "Python 3.10.4 64-bit",
   "language": "python",
   "name": "python3"
  },
  "language_info": {
   "codemirror_mode": {
    "name": "ipython",
    "version": 3
   },
   "file_extension": ".py",
   "mimetype": "text/x-python",
   "name": "python",
   "nbconvert_exporter": "python",
   "pygments_lexer": "ipython3",
   "version": "3.10.4"
  },
  "orig_nbformat": 4
 },
 "nbformat": 4,
 "nbformat_minor": 2
}
