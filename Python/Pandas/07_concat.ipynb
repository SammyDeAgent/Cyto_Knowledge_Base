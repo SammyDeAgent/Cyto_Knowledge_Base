{
 "cells": [
  {
   "cell_type": "code",
   "execution_count": 1,
   "metadata": {},
   "outputs": [],
   "source": [
    "# Library Configurations\n",
    "import pandas as pd\n",
    "import numpy as np"
   ]
  },
  {
   "cell_type": "code",
   "execution_count": 3,
   "metadata": {},
   "outputs": [
    {
     "name": "stdout",
     "output_type": "stream",
     "text": [
      "                              Name      Type        Stat  Percentage  BaseATK\n",
      "0            Redhorn Stonethresher  Claymore   Crit DMG%        88.2      542\n",
      "1               Engulfing Lighting   Polearm         ER%        55.1      608\n",
      "2                 Wolfs Gravestone  Claymore        ATK%        49.6      608\n",
      "3  Lost Prayers to the Sacred Wind  Catalyst  Crit Rate%        33.1      608\n",
      "4                     Skyward Harp       Bow  Crit Rate%        22.1      674\n",
      "5              Haran Geppaku Futsu     Sword  Crit Rate%        33.1      608\n",
      "0                         Amos Bow       Bow        ATK%        49.6      608\n",
      "1             Everlasting Moonglow  Catalyst         HP%        49.6      608\n",
      "2                    Staff of Homa   Polearm   Crit DMG%        66.2      608\n",
      "3            Primodial Jade Cutter     Sword  Crit Rate%        44.1      542\n",
      "4                   Kaguras Verity  Catalyst   Crit DMG%        66.2      608\n",
      "5             Song of Broken Pines  Claymore    Phy DMG%        20.7      741\n"
     ]
    }
   ],
   "source": [
    "df1 = pd.DataFrame({\n",
    "  'Name': pd.Series(['Redhorn Stonethresher','Engulfing Lighting','Wolfs Gravestone','Lost Prayers to the Sacred Wind','Skyward Harp','Haran Geppaku Futsu']),\n",
    "  'Type': pd.Series(['Claymore','Polearm','Claymore','Catalyst','Bow','Sword']),\n",
    "  'Stat': pd.Series(['Crit DMG%','ER%','ATK%','Crit Rate%','Crit Rate%','Crit Rate%']),\n",
    "  'Percentage': pd.Series([88.2,55.1,49.6,33.1, 22.1, 33.1]),\n",
    "  'BaseATK': pd.Series([542,608,608,608,674,608])\n",
    "})\n",
    "\n",
    "df2 = pd.DataFrame({\n",
    "  'Name': pd.Series(['Amos Bow','Everlasting Moonglow','Staff of Homa','Primodial Jade Cutter','Kaguras Verity','Song of Broken Pines']),\n",
    "  'Type': pd.Series(['Bow','Catalyst','Polearm','Sword','Catalyst','Claymore']),\n",
    "  'Stat': pd.Series(['ATK%','HP%','Crit DMG%','Crit Rate%','Crit DMG%','Phy DMG%']),\n",
    "  'Percentage': pd.Series([49.6,49.6,66.2,44.1,66.2,20.7]),\n",
    "  'BaseATK': pd.Series([608,608,608,542,608,741])\n",
    "})\n",
    "\n",
    "# Concat adding of data\n",
    "print(pd.concat([df1,df2]))"
   ]
  },
  {
   "cell_type": "code",
   "execution_count": 5,
   "metadata": {},
   "outputs": [
    {
     "name": "stdout",
     "output_type": "stream",
     "text": [
      "                                 Name      Type        Stat  Percentage  \\\n",
      "S1 0            Redhorn Stonethresher  Claymore   Crit DMG%        88.2   \n",
      "   1               Engulfing Lighting   Polearm         ER%        55.1   \n",
      "   2                 Wolfs Gravestone  Claymore        ATK%        49.6   \n",
      "   3  Lost Prayers to the Sacred Wind  Catalyst  Crit Rate%        33.1   \n",
      "   4                     Skyward Harp       Bow  Crit Rate%        22.1   \n",
      "   5              Haran Geppaku Futsu     Sword  Crit Rate%        33.1   \n",
      "S2 0                         Amos Bow       Bow        ATK%        49.6   \n",
      "   1             Everlasting Moonglow  Catalyst         HP%        49.6   \n",
      "   2                    Staff of Homa   Polearm   Crit DMG%        66.2   \n",
      "   3            Primodial Jade Cutter     Sword  Crit Rate%        44.1   \n",
      "   4                   Kaguras Verity  Catalyst   Crit DMG%        66.2   \n",
      "   5             Song of Broken Pines  Claymore    Phy DMG%        20.7   \n",
      "\n",
      "      BaseATK  \n",
      "S1 0      542  \n",
      "   1      608  \n",
      "   2      608  \n",
      "   3      608  \n",
      "   4      674  \n",
      "   5      608  \n",
      "S2 0      608  \n",
      "   1      608  \n",
      "   2      608  \n",
      "   3      542  \n",
      "   4      608  \n",
      "   5      741  \n"
     ]
    }
   ],
   "source": [
    "# Chopping up concat'ed part via keys\n",
    "print(pd.concat([df1,df2],keys=['S1','S2']))"
   ]
  },
  {
   "cell_type": "code",
   "execution_count": 6,
   "metadata": {},
   "outputs": [
    {
     "name": "stdout",
     "output_type": "stream",
     "text": [
      "                               Name      Type        Stat  Percentage  BaseATK\n",
      "0             Redhorn Stonethresher  Claymore   Crit DMG%        88.2      542\n",
      "1                Engulfing Lighting   Polearm         ER%        55.1      608\n",
      "2                  Wolfs Gravestone  Claymore        ATK%        49.6      608\n",
      "3   Lost Prayers to the Sacred Wind  Catalyst  Crit Rate%        33.1      608\n",
      "4                      Skyward Harp       Bow  Crit Rate%        22.1      674\n",
      "5               Haran Geppaku Futsu     Sword  Crit Rate%        33.1      608\n",
      "6                          Amos Bow       Bow        ATK%        49.6      608\n",
      "7              Everlasting Moonglow  Catalyst         HP%        49.6      608\n",
      "8                     Staff of Homa   Polearm   Crit DMG%        66.2      608\n",
      "9             Primodial Jade Cutter     Sword  Crit Rate%        44.1      542\n",
      "10                   Kaguras Verity  Catalyst   Crit DMG%        66.2      608\n",
      "11             Song of Broken Pines  Claymore    Phy DMG%        20.7      741\n"
     ]
    }
   ],
   "source": [
    "# Ignore index will override the keys and the series will continue\n",
    "print(pd.concat([df1,df2],keys=['S1','S2'],ignore_index=True))"
   ]
  },
  {
   "cell_type": "code",
   "execution_count": 10,
   "metadata": {},
   "outputs": [
    {
     "name": "stdout",
     "output_type": "stream",
     "text": [
      "                              Name      Type        Stat  Percentage  BaseATK  \\\n",
      "0            Redhorn Stonethresher  Claymore   Crit DMG%        88.2      542   \n",
      "1               Engulfing Lighting   Polearm         ER%        55.1      608   \n",
      "2                 Wolfs Gravestone  Claymore        ATK%        49.6      608   \n",
      "3  Lost Prayers to the Sacred Wind  Catalyst  Crit Rate%        33.1      608   \n",
      "4                     Skyward Harp       Bow  Crit Rate%        22.1      674   \n",
      "5              Haran Geppaku Futsu     Sword  Crit Rate%        33.1      608   \n",
      "\n",
      "                    Name      Type        Stat  Percentage  BaseATK  \n",
      "0               Amos Bow       Bow        ATK%        49.6      608  \n",
      "1   Everlasting Moonglow  Catalyst         HP%        49.6      608  \n",
      "2          Staff of Homa   Polearm   Crit DMG%        66.2      608  \n",
      "3  Primodial Jade Cutter     Sword  Crit Rate%        44.1      542  \n",
      "4         Kaguras Verity  Catalyst   Crit DMG%        66.2      608  \n",
      "5   Song of Broken Pines  Claymore    Phy DMG%        20.7      741  \n"
     ]
    }
   ],
   "source": [
    "# Concat'ing in horizontal instead of vertical\n",
    "print(pd.concat([df1,df2],axis=1))"
   ]
  },
  {
   "cell_type": "code",
   "execution_count": 11,
   "metadata": {},
   "outputs": [
    {
     "name": "stdout",
     "output_type": "stream",
     "text": [
      "                              Name      Type        Stat  Percentage  BaseATK\n",
      "0            Redhorn Stonethresher  Claymore   Crit DMG%        88.2      542\n",
      "1               Engulfing Lighting   Polearm         ER%        55.1      608\n",
      "2                 Wolfs Gravestone  Claymore        ATK%        49.6      608\n",
      "3  Lost Prayers to the Sacred Wind  Catalyst  Crit Rate%        33.1      608\n",
      "4                     Skyward Harp       Bow  Crit Rate%        22.1      674\n",
      "5              Haran Geppaku Futsu     Sword  Crit Rate%        33.1      608\n",
      "0                         Amos Bow       Bow        ATK%        49.6      608\n",
      "1             Everlasting Moonglow  Catalyst         HP%        49.6      608\n",
      "2                    Staff of Homa   Polearm   Crit DMG%        66.2      608\n",
      "3            Primodial Jade Cutter     Sword  Crit Rate%        44.1      542\n",
      "4                   Kaguras Verity  Catalyst   Crit DMG%        66.2      608\n",
      "5             Song of Broken Pines  Claymore    Phy DMG%        20.7      741\n"
     ]
    },
    {
     "name": "stderr",
     "output_type": "stream",
     "text": [
      "C:\\Users\\y50023848\\AppData\\Local\\Temp\\ipykernel_15656\\2288691929.py:2: FutureWarning: The frame.append method is deprecated and will be removed from pandas in a future version. Use pandas.concat instead.\n",
      "  print(df1.append(df2))\n"
     ]
    }
   ],
   "source": [
    "# Append - will be deprecated\n",
    "print(df1.append(df2))"
   ]
  },
  {
   "cell_type": "code",
   "execution_count": 13,
   "metadata": {},
   "outputs": [
    {
     "name": "stdout",
     "output_type": "stream",
     "text": [
      "                              Name      Type        Stat  Percentage  BaseATK\n",
      "0            Redhorn Stonethresher  Claymore   Crit DMG%        88.2      542\n",
      "1               Engulfing Lighting   Polearm         ER%        55.1      608\n",
      "2                 Wolfs Gravestone  Claymore        ATK%        49.6      608\n",
      "3  Lost Prayers to the Sacred Wind  Catalyst  Crit Rate%        33.1      608\n",
      "4                     Skyward Harp       Bow  Crit Rate%        22.1      674\n",
      "5              Haran Geppaku Futsu     Sword  Crit Rate%        33.1      608\n",
      "0            Redhorn Stonethresher  Claymore   Crit DMG%        88.2      542\n",
      "1               Engulfing Lighting   Polearm         ER%        55.1      608\n",
      "2                 Wolfs Gravestone  Claymore        ATK%        49.6      608\n",
      "3  Lost Prayers to the Sacred Wind  Catalyst  Crit Rate%        33.1      608\n",
      "4                     Skyward Harp       Bow  Crit Rate%        22.1      674\n",
      "5              Haran Geppaku Futsu     Sword  Crit Rate%        33.1      608\n",
      "0                         Amos Bow       Bow        ATK%        49.6      608\n",
      "1             Everlasting Moonglow  Catalyst         HP%        49.6      608\n",
      "2                    Staff of Homa   Polearm   Crit DMG%        66.2      608\n",
      "3            Primodial Jade Cutter     Sword  Crit Rate%        44.1      542\n",
      "4                   Kaguras Verity  Catalyst   Crit DMG%        66.2      608\n",
      "5             Song of Broken Pines  Claymore    Phy DMG%        20.7      741\n",
      "0                         Amos Bow       Bow        ATK%        49.6      608\n",
      "1             Everlasting Moonglow  Catalyst         HP%        49.6      608\n",
      "2                    Staff of Homa   Polearm   Crit DMG%        66.2      608\n",
      "3            Primodial Jade Cutter     Sword  Crit Rate%        44.1      542\n",
      "4                   Kaguras Verity  Catalyst   Crit DMG%        66.2      608\n",
      "5             Song of Broken Pines  Claymore    Phy DMG%        20.7      741\n"
     ]
    },
    {
     "name": "stderr",
     "output_type": "stream",
     "text": [
      "C:\\Users\\y50023848\\AppData\\Local\\Temp\\ipykernel_15656\\4068124878.py:2: FutureWarning: The frame.append method is deprecated and will be removed from pandas in a future version. Use pandas.concat instead.\n",
      "  print(df1.append([df1,df2,df2]))\n"
     ]
    }
   ],
   "source": [
    "# Append can have multiple appends\n",
    "print(df1.append([df1,df2,df2]))"
   ]
  }
 ],
 "metadata": {
  "kernelspec": {
   "display_name": "Python 3.10.4 64-bit",
   "language": "python",
   "name": "python3"
  },
  "language_info": {
   "codemirror_mode": {
    "name": "ipython",
    "version": 3
   },
   "file_extension": ".py",
   "mimetype": "text/x-python",
   "name": "python",
   "nbconvert_exporter": "python",
   "pygments_lexer": "ipython3",
   "version": "3.10.4"
  },
  "orig_nbformat": 4,
  "vscode": {
   "interpreter": {
    "hash": "c2e197f2615060b1320db884ce9dd642f21640f7e22d0399598310ef19776d1d"
   }
  }
 },
 "nbformat": 4,
 "nbformat_minor": 2
}
