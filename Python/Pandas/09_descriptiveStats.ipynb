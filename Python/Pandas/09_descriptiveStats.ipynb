{
 "cells": [
  {
   "cell_type": "code",
   "execution_count": 1,
   "metadata": {},
   "outputs": [],
   "source": [
    "# Library Configurations\n",
    "import pandas as pd\n",
    "import numpy as np\n",
    "import datetime as dt"
   ]
  },
  {
   "cell_type": "code",
   "execution_count": 2,
   "metadata": {},
   "outputs": [
    {
     "name": "stdout",
     "output_type": "stream",
     "text": [
      "                               Name      Type        Stat  Percentage  BaseATK\n",
      "0             Redhorn Stonethresher  Claymore   Crit DMG%        88.2      542\n",
      "1                Engulfing Lighting   Polearm         ER%        55.1      608\n",
      "2                  Wolfs Gravestone  Claymore        ATK%        49.6      608\n",
      "3   Lost Prayers to the Sacred Wind  Catalyst  Crit Rate%        33.1      608\n",
      "4                      Skyward Harp       Bow  Crit Rate%        22.1      674\n",
      "5               Haran Geppaku Futsu     Sword  Crit Rate%        33.1      608\n",
      "6                          Amos Bow       Bow        ATK%        49.6      608\n",
      "7              Everlasting Moonglow  Catalyst         HP%        49.6      608\n",
      "8                     Staff of Homa   Polearm   Crit DMG%        66.2      608\n",
      "9             Primodial Jade Cutter     Sword  Crit Rate%        44.1      542\n",
      "10                   Kaguras Verity  Catalyst   Crit DMG%        66.2      608\n",
      "11             Song of Broken Pines  Claymore    Phy DMG%        20.7      741\n"
     ]
    }
   ],
   "source": [
    "df1 = pd.DataFrame({\n",
    "  'Name': pd.Series(['Redhorn Stonethresher','Engulfing Lighting','Wolfs Gravestone','Lost Prayers to the Sacred Wind','Skyward Harp','Haran Geppaku Futsu']),\n",
    "  'Type': pd.Series(['Claymore','Polearm','Claymore','Catalyst','Bow','Sword']),\n",
    "  'Stat': pd.Series(['Crit DMG%','ER%','ATK%','Crit Rate%','Crit Rate%','Crit Rate%']),\n",
    "  'Percentage': pd.Series([88.2,55.1,49.6,33.1, 22.1, 33.1]),\n",
    "  'BaseATK': pd.Series([542,608,608,608,674,608])\n",
    "})\n",
    "\n",
    "df2 = pd.DataFrame({\n",
    "  'Name': pd.Series(['Amos Bow','Everlasting Moonglow','Staff of Homa','Primodial Jade Cutter','Kaguras Verity','Song of Broken Pines']),\n",
    "  'Type': pd.Series(['Bow','Catalyst','Polearm','Sword','Catalyst','Claymore']),\n",
    "  'Stat': pd.Series(['ATK%','HP%','Crit DMG%','Crit Rate%','Crit DMG%','Phy DMG%']),\n",
    "  'Percentage': pd.Series([49.6,49.6,66.2,44.1,66.2,20.7]),\n",
    "  'BaseATK': pd.Series([608,608,608,542,608,741])\n",
    "})\n",
    "\n",
    "df = pd.concat([df1,df2], ignore_index=True)\n",
    "print(df)"
   ]
  },
  {
   "cell_type": "code",
   "execution_count": 3,
   "metadata": {},
   "outputs": [
    {
     "name": "stdout",
     "output_type": "stream",
     "text": [
      "Name          Redhorn StonethresherEngulfing LightingWolfs G...\n",
      "Type          ClaymorePolearmClaymoreCatalystBowSwordBowCata...\n",
      "Stat          Crit DMG%ER%ATK%Crit Rate%Crit Rate%Crit Rate%...\n",
      "Percentage                                                577.6\n",
      "BaseATK                                                    7363\n",
      "dtype: object\n",
      "0     630.2\n",
      "1     663.1\n",
      "2     657.6\n",
      "3     641.1\n",
      "4     696.1\n",
      "5     641.1\n",
      "6     657.6\n",
      "7     657.6\n",
      "8     674.2\n",
      "9     586.1\n",
      "10    674.2\n",
      "11    761.7\n",
      "dtype: float64\n"
     ]
    },
    {
     "name": "stderr",
     "output_type": "stream",
     "text": [
      "C:\\Users\\y50023848\\AppData\\Local\\Temp\\ipykernel_8636\\398182499.py:5: FutureWarning: Dropping of nuisance columns in DataFrame reductions (with 'numeric_only=None') is deprecated; in a future version this will raise TypeError.  Select only valid columns before calling the reduction.\n",
      "  print(df.sum(1))\n"
     ]
    }
   ],
   "source": [
    "# Sum of required axis\n",
    "print(df.sum())\n",
    "\n",
    "# Sum is added individually\n",
    "print(df.sum(1))"
   ]
  },
  {
   "cell_type": "code",
   "execution_count": 4,
   "metadata": {},
   "outputs": [
    {
     "name": "stdout",
     "output_type": "stream",
     "text": [
      "Percentage     48.133333\n",
      "BaseATK       613.583333\n",
      "dtype: float64\n"
     ]
    },
    {
     "name": "stderr",
     "output_type": "stream",
     "text": [
      "C:\\Users\\y50023848\\AppData\\Local\\Temp\\ipykernel_8636\\1560568905.py:2: FutureWarning: Dropping of nuisance columns in DataFrame reductions (with 'numeric_only=None') is deprecated; in a future version this will raise TypeError.  Select only valid columns before calling the reduction.\n",
      "  print(df.mean())\n"
     ]
    }
   ],
   "source": [
    "# Mean = average value\n",
    "print(df.mean())"
   ]
  },
  {
   "cell_type": "code",
   "execution_count": 5,
   "metadata": {},
   "outputs": [
    {
     "name": "stdout",
     "output_type": "stream",
     "text": [
      "Percentage    19.567428\n",
      "BaseATK       52.555526\n",
      "dtype: float64\n"
     ]
    },
    {
     "name": "stderr",
     "output_type": "stream",
     "text": [
      "C:\\Users\\y50023848\\AppData\\Local\\Temp\\ipykernel_8636\\1978894878.py:2: FutureWarning: Dropping of nuisance columns in DataFrame reductions (with 'numeric_only=None') is deprecated; in a future version this will raise TypeError.  Select only valid columns before calling the reduction.\n",
      "  print(df.std())\n"
     ]
    }
   ],
   "source": [
    "# Standard Deviation of numerial column\n",
    "print(df.std())"
   ]
  },
  {
   "cell_type": "code",
   "execution_count": 6,
   "metadata": {},
   "outputs": [
    {
     "name": "stdout",
     "output_type": "stream",
     "text": [
      "       Percentage     BaseATK\n",
      "count   12.000000   12.000000\n",
      "mean    48.133333  613.583333\n",
      "std     19.567428   52.555526\n",
      "min     20.700000  542.000000\n",
      "25%     33.100000  608.000000\n",
      "50%     49.600000  608.000000\n",
      "75%     57.875000  608.000000\n",
      "max     88.200000  741.000000\n"
     ]
    }
   ],
   "source": [
    "# Describing a DF stats\n",
    "print(df.describe())"
   ]
  },
  {
   "cell_type": "code",
   "execution_count": 7,
   "metadata": {},
   "outputs": [
    {
     "name": "stdout",
     "output_type": "stream",
     "text": [
      "                         Name      Type        Stat\n",
      "count                      12        12          12\n",
      "unique                     12         5           6\n",
      "top     Redhorn Stonethresher  Claymore  Crit Rate%\n",
      "freq                        1         3           4\n"
     ]
    }
   ],
   "source": [
    "# Object oriented stats\n",
    "print(df.describe(include=['object']))"
   ]
  },
  {
   "cell_type": "code",
   "execution_count": 8,
   "metadata": {},
   "outputs": [
    {
     "name": "stdout",
     "output_type": "stream",
     "text": [
      "                         Name      Type        Stat  Percentage     BaseATK\n",
      "count                      12        12          12   12.000000   12.000000\n",
      "unique                     12         5           6         NaN         NaN\n",
      "top     Redhorn Stonethresher  Claymore  Crit Rate%         NaN         NaN\n",
      "freq                        1         3           4         NaN         NaN\n",
      "mean                      NaN       NaN         NaN   48.133333  613.583333\n",
      "std                       NaN       NaN         NaN   19.567428   52.555526\n",
      "min                       NaN       NaN         NaN   20.700000  542.000000\n",
      "25%                       NaN       NaN         NaN   33.100000  608.000000\n",
      "50%                       NaN       NaN         NaN   49.600000  608.000000\n",
      "75%                       NaN       NaN         NaN   57.875000  608.000000\n",
      "max                       NaN       NaN         NaN   88.200000  741.000000\n"
     ]
    }
   ],
   "source": [
    "# including all stats\n",
    "print(df.describe(include='all'))"
   ]
  }
 ],
 "metadata": {
  "kernelspec": {
   "display_name": "Python 3.10.4 64-bit",
   "language": "python",
   "name": "python3"
  },
  "language_info": {
   "codemirror_mode": {
    "name": "ipython",
    "version": 3
   },
   "file_extension": ".py",
   "mimetype": "text/x-python",
   "name": "python",
   "nbconvert_exporter": "python",
   "pygments_lexer": "ipython3",
   "version": "3.10.4"
  },
  "orig_nbformat": 4,
  "vscode": {
   "interpreter": {
    "hash": "c2e197f2615060b1320db884ce9dd642f21640f7e22d0399598310ef19776d1d"
   }
  }
 },
 "nbformat": 4,
 "nbformat_minor": 2
}
