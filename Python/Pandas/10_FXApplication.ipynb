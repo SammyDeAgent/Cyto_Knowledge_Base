{
 "cells": [
  {
   "cell_type": "code",
   "execution_count": 1,
   "metadata": {},
   "outputs": [],
   "source": [
    "# Library Configurations\n",
    "import pandas as pd\n",
    "import numpy as np\n",
    "import datetime as dt"
   ]
  },
  {
   "cell_type": "code",
   "execution_count": 2,
   "metadata": {},
   "outputs": [],
   "source": [
    "# Table wise Function Application -> pipe()\n",
    "# Row/Column wise Function Application -> apply()\n",
    "# Element wise Function Application -> applymap()"
   ]
  },
  {
   "cell_type": "code",
   "execution_count": 3,
   "metadata": {},
   "outputs": [
    {
     "name": "stdout",
     "output_type": "stream",
     "text": [
      "       col1      col2      col3\n",
      "0 -0.515297 -0.009962 -1.412147\n",
      "1  1.391193  2.129699  0.097837\n",
      "2  2.125848  0.387429  0.009343\n",
      "3  1.442844  0.531487  1.020814\n",
      "4  0.328138  0.477386  0.643380\n"
     ]
    },
    {
     "data": {
      "text/html": [
       "<div>\n",
       "<style scoped>\n",
       "    .dataframe tbody tr th:only-of-type {\n",
       "        vertical-align: middle;\n",
       "    }\n",
       "\n",
       "    .dataframe tbody tr th {\n",
       "        vertical-align: top;\n",
       "    }\n",
       "\n",
       "    .dataframe thead th {\n",
       "        text-align: right;\n",
       "    }\n",
       "</style>\n",
       "<table border=\"1\" class=\"dataframe\">\n",
       "  <thead>\n",
       "    <tr style=\"text-align: right;\">\n",
       "      <th></th>\n",
       "      <th>col1</th>\n",
       "      <th>col2</th>\n",
       "      <th>col3</th>\n",
       "    </tr>\n",
       "  </thead>\n",
       "  <tbody>\n",
       "    <tr>\n",
       "      <th>0</th>\n",
       "      <td>1.484703</td>\n",
       "      <td>1.990038</td>\n",
       "      <td>0.587853</td>\n",
       "    </tr>\n",
       "    <tr>\n",
       "      <th>1</th>\n",
       "      <td>3.391193</td>\n",
       "      <td>4.129699</td>\n",
       "      <td>2.097837</td>\n",
       "    </tr>\n",
       "    <tr>\n",
       "      <th>2</th>\n",
       "      <td>4.125848</td>\n",
       "      <td>2.387429</td>\n",
       "      <td>2.009343</td>\n",
       "    </tr>\n",
       "    <tr>\n",
       "      <th>3</th>\n",
       "      <td>3.442844</td>\n",
       "      <td>2.531487</td>\n",
       "      <td>3.020814</td>\n",
       "    </tr>\n",
       "    <tr>\n",
       "      <th>4</th>\n",
       "      <td>2.328138</td>\n",
       "      <td>2.477386</td>\n",
       "      <td>2.643380</td>\n",
       "    </tr>\n",
       "  </tbody>\n",
       "</table>\n",
       "</div>"
      ],
      "text/plain": [
       "       col1      col2      col3\n",
       "0  1.484703  1.990038  0.587853\n",
       "1  3.391193  4.129699  2.097837\n",
       "2  4.125848  2.387429  2.009343\n",
       "3  3.442844  2.531487  3.020814\n",
       "4  2.328138  2.477386  2.643380"
      ]
     },
     "execution_count": 3,
     "metadata": {},
     "output_type": "execute_result"
    }
   ],
   "source": [
    "# Table wise Function Application\n",
    "\n",
    "def adder(arg1, arg2):\n",
    "  return arg1 + arg2\n",
    "\n",
    "df = pd.DataFrame(np.random.randn(5,3), columns=['col1','col2','col3'])\n",
    "print(df)\n",
    "\n",
    "df.pipe(adder, 2)"
   ]
  },
  {
   "cell_type": "code",
   "execution_count": 8,
   "metadata": {},
   "outputs": [
    {
     "name": "stdout",
     "output_type": "stream",
     "text": [
      "col1    0.954545\n",
      "col2    0.703208\n",
      "col3    0.071845\n",
      "dtype: float64\n",
      "0   -0.645802\n",
      "1    1.206243\n",
      "2    0.840873\n",
      "3    0.998382\n",
      "4    0.482968\n",
      "dtype: float64\n"
     ]
    }
   ],
   "source": [
    "# Row/Column wise Function Application\n",
    "\n",
    "print(df.apply(np.mean))\n",
    "\n",
    "print(df.apply(np.mean, axis=1))\n"
   ]
  },
  {
   "cell_type": "code",
   "execution_count": 10,
   "metadata": {},
   "outputs": [
    {
     "data": {
      "text/plain": [
       "col1    2.641145\n",
       "col2    2.139661\n",
       "col3    2.432960\n",
       "dtype: float64"
      ]
     },
     "execution_count": 10,
     "metadata": {},
     "output_type": "execute_result"
    }
   ],
   "source": [
    "df.apply(lambda x: x.max() - x.min())"
   ]
  },
  {
   "cell_type": "code",
   "execution_count": 14,
   "metadata": {},
   "outputs": [
    {
     "name": "stdout",
     "output_type": "stream",
     "text": [
      "       col1      col2      col3\n",
      "0 -0.515297 -0.009962 -1.412147\n",
      "1  1.391193  2.129699  0.097837\n",
      "2  2.125848  0.387429  0.009343\n",
      "3  1.442844  0.531487  1.020814\n",
      "4  0.328138  0.477386  0.643380\n",
      "       col1      col2      col3\n",
      "0 -0.515297 -0.009962 -1.412147\n",
      "1  1.391193  2.129699  0.097837\n",
      "2  2.125848  0.387429  0.009343\n",
      "3  1.442844  0.531487  1.020814\n",
      "4  0.328138  0.477386  0.643380\n"
     ]
    },
    {
     "data": {
      "text/plain": [
       "col1    0.954545\n",
       "col2    0.703208\n",
       "col3    0.071845\n",
       "dtype: float64"
      ]
     },
     "execution_count": 14,
     "metadata": {},
     "output_type": "execute_result"
    }
   ],
   "source": [
    "# Element wise Function APplication\n",
    "\n",
    "print(df)\n",
    "df['col1'].map(lambda x: x*100)"
   ]
  }
 ],
 "metadata": {
  "kernelspec": {
   "display_name": "Python 3.10.4 64-bit",
   "language": "python",
   "name": "python3"
  },
  "language_info": {
   "codemirror_mode": {
    "name": "ipython",
    "version": 3
   },
   "file_extension": ".py",
   "mimetype": "text/x-python",
   "name": "python",
   "nbconvert_exporter": "python",
   "pygments_lexer": "ipython3",
   "version": "3.10.4"
  },
  "orig_nbformat": 4,
  "vscode": {
   "interpreter": {
    "hash": "c2e197f2615060b1320db884ce9dd642f21640f7e22d0399598310ef19776d1d"
   }
  }
 },
 "nbformat": 4,
 "nbformat_minor": 2
}
