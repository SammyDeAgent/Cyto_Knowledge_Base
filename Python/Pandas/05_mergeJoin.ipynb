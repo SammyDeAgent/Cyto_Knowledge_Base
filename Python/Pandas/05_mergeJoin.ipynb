{
 "cells": [
  {
   "cell_type": "code",
   "execution_count": 1,
   "metadata": {},
   "outputs": [],
   "source": [
    "# Library Configurations\n",
    "import pandas as pd\n",
    "import numpy as np"
   ]
  },
  {
   "cell_type": "code",
   "execution_count": 6,
   "metadata": {},
   "outputs": [
    {
     "name": "stdout",
     "output_type": "stream",
     "text": [
      "                              Name      Type        Stat  Percentage\n",
      "0            Redhorn Stonethresher  Claymore   Crit DMG%        88.2\n",
      "1               Engulfing Lighting   Polearm         ER%        55.1\n",
      "2                 Wolfs Gravestone  Claymore        ATK%        49.6\n",
      "3  Lost Prayers to the Sacred Wind  Catalyst  Crit Rate%        33.1\n",
      "4                     Skyward Harp       Bow  Crit Rate%        22.1\n",
      "5              Haran Geppaku Futsu     Sword  Crit Rate%        33.1\n",
      "\n",
      "                              Name   Recommanded-C  Element\n",
      "0            Redhorn Stonethresher    Arataki Itto      Geo\n",
      "1               Engulfing Lighting   Raiden Shogun  Electro\n",
      "2                 Wolfs Gravestone           Diluc     Pyro\n",
      "3  Lost Prayers to the Sacred Wind            Klee     Pyro\n",
      "4                     Skyward Harp       Tartaglia    Hydro\n",
      "5              Haran Geppaku Futsu  Kamisato Ayato    Hydro\n"
     ]
    }
   ],
   "source": [
    "# Setup of DF\n",
    "left = pd.DataFrame({\n",
    "  'Name': pd.Series(['Redhorn Stonethresher','Engulfing Lighting','Wolfs Gravestone','Lost Prayers to the Sacred Wind','Skyward Harp','Haran Geppaku Futsu']),\n",
    "  'Type': pd.Series(['Claymore','Polearm','Claymore','Catalyst','Bow','Sword']),\n",
    "  'Stat': pd.Series(['Crit DMG%','ER%','ATK%','Crit Rate%','Crit Rate%','Crit Rate%']),\n",
    "  'Percentage': pd.Series([88.2,55.1,49.6,33.1, 22.1, 33.1])\n",
    "})\n",
    "\n",
    "right = pd.DataFrame({\n",
    "  'Name': pd.Series(['Redhorn Stonethresher','Engulfing Lighting','Wolfs Gravestone','Lost Prayers to the Sacred Wind','Skyward Harp','Haran Geppaku Futsu']),\n",
    "  'Recommanded-C': pd.Series(['Arataki Itto','Raiden Shogun','Diluc','Klee','Tartaglia','Kamisato Ayato']),\n",
    "  'Element': pd.Series(['Geo','Electro','Pyro','Pyro','Hydro','Hydro'])\n",
    "})\n",
    "\n",
    "extend = pd.DataFrame({\n",
    "  'Name': pd.Series(['Amos Bow','Everlasting Moonglow','Staff of Homa','Primodial Jade Cutter','Kaguras Verity','Song of Broken Pines']),\n",
    "  'Type': pd.Series(['Bow','Catalyst','Polearm','Sword','Catalyst','Claymore']),\n",
    "  'Stat': pd.Series(['ATK%','HP%','Crit DMG%','Crit Rate%','Crit DMG%','Phy DMG%']),\n",
    "  'Percentage': pd.Series([49.6,49.6,66.2,44.1,66.2,20.7])\n",
    "})\n",
    "\n",
    "print(left)\n",
    "print()\n",
    "print(right)"
   ]
  },
  {
   "cell_type": "code",
   "execution_count": 7,
   "metadata": {},
   "outputs": [
    {
     "name": "stdout",
     "output_type": "stream",
     "text": [
      "                              Name      Type        Stat  Percentage  \\\n",
      "0            Redhorn Stonethresher  Claymore   Crit DMG%        88.2   \n",
      "1               Engulfing Lighting   Polearm         ER%        55.1   \n",
      "2                 Wolfs Gravestone  Claymore        ATK%        49.6   \n",
      "3  Lost Prayers to the Sacred Wind  Catalyst  Crit Rate%        33.1   \n",
      "4                     Skyward Harp       Bow  Crit Rate%        22.1   \n",
      "5              Haran Geppaku Futsu     Sword  Crit Rate%        33.1   \n",
      "\n",
      "    Recommanded-C  Element  \n",
      "0    Arataki Itto      Geo  \n",
      "1   Raiden Shogun  Electro  \n",
      "2           Diluc     Pyro  \n",
      "3            Klee     Pyro  \n",
      "4       Tartaglia    Hydro  \n",
      "5  Kamisato Ayato    Hydro  \n"
     ]
    }
   ],
   "source": [
    "# Merging of DF\n",
    "print(pd.merge(left,right,on='Name'))"
   ]
  },
  {
   "cell_type": "code",
   "execution_count": 11,
   "metadata": {},
   "outputs": [],
   "source": [
    "# Merging can also be on multiple keys\n",
    "# pd.merge(left, right, on=['Name','Element'])"
   ]
  },
  {
   "cell_type": "code",
   "execution_count": 12,
   "metadata": {},
   "outputs": [
    {
     "name": "stdout",
     "output_type": "stream",
     "text": [
      "                              Name      Type        Stat  Percentage  \\\n",
      "0            Redhorn Stonethresher  Claymore   Crit DMG%        88.2   \n",
      "1               Engulfing Lighting   Polearm         ER%        55.1   \n",
      "2                 Wolfs Gravestone  Claymore        ATK%        49.6   \n",
      "3  Lost Prayers to the Sacred Wind  Catalyst  Crit Rate%        33.1   \n",
      "4                     Skyward Harp       Bow  Crit Rate%        22.1   \n",
      "5              Haran Geppaku Futsu     Sword  Crit Rate%        33.1   \n",
      "\n",
      "    Recommanded-C  Element  \n",
      "0    Arataki Itto      Geo  \n",
      "1   Raiden Shogun  Electro  \n",
      "2           Diluc     Pyro  \n",
      "3            Klee     Pyro  \n",
      "4       Tartaglia    Hydro  \n",
      "5  Kamisato Ayato    Hydro  \n"
     ]
    }
   ],
   "source": [
    "# How argument in merge (left, right, outer, inner)\n",
    "print(pd.merge(left,right,on='Name', how='inner'))"
   ]
  },
  {
   "cell_type": "markdown",
   "metadata": {},
   "source": [
    "## Refer to this diagram for joins\n",
    "<img src='img/joins.png'>"
   ]
  },
  {
   "cell_type": "markdown",
   "metadata": {},
   "source": []
  }
 ],
 "metadata": {
  "kernelspec": {
   "display_name": "Python 3.10.4 64-bit",
   "language": "python",
   "name": "python3"
  },
  "language_info": {
   "codemirror_mode": {
    "name": "ipython",
    "version": 3
   },
   "file_extension": ".py",
   "mimetype": "text/x-python",
   "name": "python",
   "nbconvert_exporter": "python",
   "pygments_lexer": "ipython3",
   "version": "3.10.4"
  },
  "orig_nbformat": 4,
  "vscode": {
   "interpreter": {
    "hash": "c2e197f2615060b1320db884ce9dd642f21640f7e22d0399598310ef19776d1d"
   }
  }
 },
 "nbformat": 4,
 "nbformat_minor": 2
}
