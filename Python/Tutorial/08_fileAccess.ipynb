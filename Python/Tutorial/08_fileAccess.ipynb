{
 "cells": [
  {
   "cell_type": "code",
   "execution_count": 18,
   "metadata": {},
   "outputs": [],
   "source": [
    "# Python File Handling\n",
    "# Basic file operations such as read, write, open, etc.\n",
    "\n",
    "# file_object = open('filename','mode')\n",
    "# filename is the name of the file\n",
    "# mode tells the attribite of the file opened in"
   ]
  },
  {
   "cell_type": "code",
   "execution_count": 19,
   "metadata": {},
   "outputs": [],
   "source": [
    "# Opening a file\n",
    "# operation of w indicates Python will write and create it no exist\n",
    "# + sign indicates both read and write operations\n",
    "f = open(\"example_1.txt\",\"w+\")\n",
    "\n",
    "for i in range(10):\n",
    "    f.write(f\"This is line {i+1}\\n\")\n",
    "\n",
    "f.close()"
   ]
  },
  {
   "cell_type": "code",
   "execution_count": 20,
   "metadata": {},
   "outputs": [],
   "source": [
    "# File Append\n",
    "# a indicates append mode\n",
    "f = open(\"example_1.txt\", \"a+\")\n",
    "\n",
    "for i in range(2):\n",
    "    f.write(f\"Append line {i+1}\\n\")\n",
    "\n",
    "f.close()"
   ]
  },
  {
   "cell_type": "code",
   "execution_count": 21,
   "metadata": {},
   "outputs": [
    {
     "name": "stdout",
     "output_type": "stream",
     "text": [
      "This is line 1\n",
      "This is line 2\n",
      "This is line 3\n",
      "This is line 4\n",
      "This is line 5\n",
      "This is line 6\n",
      "This is line 7\n",
      "This is line 8\n",
      "This is line 9\n",
      "This is line 10\n",
      "Append line 1\n",
      "Append line 2\n",
      "\n"
     ]
    }
   ],
   "source": [
    "# File Read Only Mode via r\n",
    "f  = open(\"example_1.txt\",\"r\")\n",
    "\n",
    "if f.mode == 'r':\n",
    "    contents = f.read()\n",
    "    print(contents)\n",
    "\n",
    "f.close()"
   ]
  },
  {
   "cell_type": "code",
   "execution_count": 22,
   "metadata": {},
   "outputs": [
    {
     "name": "stdout",
     "output_type": "stream",
     "text": [
      "This is line 1\n",
      "\n",
      "This is line 2\n",
      "\n",
      "This is line 3\n",
      "\n",
      "This is line 4\n",
      "\n",
      "This is line 5\n",
      "\n",
      "This is line 6\n",
      "\n",
      "This is line 7\n",
      "\n",
      "This is line 8\n",
      "\n",
      "This is line 9\n",
      "\n",
      "This is line 10\n",
      "\n",
      "Append line 1\n",
      "\n",
      "Append line 2\n",
      "\n"
     ]
    }
   ],
   "source": [
    "# Reading Line By Line\n",
    "f = open(\"example_1.txt\",\"r\")\n",
    "\n",
    "f1 = f.readlines()\n",
    "for line in f1:\n",
    "    print(line)\n",
    "\n",
    "f.close()"
   ]
  },
  {
   "cell_type": "code",
   "execution_count": 24,
   "metadata": {},
   "outputs": [],
   "source": [
    "# Additional file open mode:\n",
    "# r for default and read\n",
    "# w for write, if not exist, create one, if exist truncate it\n",
    "# x for create file\n",
    "# a for append mode, if not exist, create one\n",
    "# t for text mode\n",
    "# b for binary mode\n",
    "# + for updating (reading and writing)"
   ]
  }
 ],
 "metadata": {
  "interpreter": {
   "hash": "c2e197f2615060b1320db884ce9dd642f21640f7e22d0399598310ef19776d1d"
  },
  "kernelspec": {
   "display_name": "Python 3.10.4 64-bit",
   "language": "python",
   "name": "python3"
  },
  "language_info": {
   "codemirror_mode": {
    "name": "ipython",
    "version": 3
   },
   "file_extension": ".py",
   "mimetype": "text/x-python",
   "name": "python",
   "nbconvert_exporter": "python",
   "pygments_lexer": "ipython3",
   "version": "3.10.4"
  },
  "orig_nbformat": 4
 },
 "nbformat": 4,
 "nbformat_minor": 2
}
