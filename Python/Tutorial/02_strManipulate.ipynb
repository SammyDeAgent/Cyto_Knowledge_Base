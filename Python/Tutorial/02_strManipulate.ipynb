{
 "cells": [
  {
   "cell_type": "code",
   "execution_count": 2,
   "metadata": {},
   "outputs": [
    {
     "name": "stdout",
     "output_type": "stream",
     "text": [
      "C\n",
      "hn Carp\n",
      "True\n",
      "John Carpenter 1992\n",
      "\\n\n",
      "I hate Violence!\n",
      "I AM A GOD!\n",
      "I am a god!\n",
      "C:Y:T:O:K:I:N:E\n",
      "SISONOCONACLOVOCILISCIPOCSORCIMARTLUONOMUENP\n",
      "['HOUSTON', '0976891']\n"
     ]
    }
   ],
   "source": [
    "# Python String Manipulations\n",
    "def main():\n",
    "\tvar1 = \"John Carpenter\"\n",
    "\n",
    "\t# String Splicing\n",
    "\tprint(var1[5])\n",
    "\tprint(var1[2:9])\n",
    "\tprint(\"John\" in var1)\n",
    "\n",
    "\t# String Literal\n",
    "\tvar2 = 1992\n",
    "\tprint('%s %d' % (var1, var2))\n",
    "\tprint(r'\\n')\n",
    "\n",
    "\t# String Replace\n",
    "\tvar3 = \"I love Peace!\"\n",
    "\tvar4 = var3.replace('love', 'hate')\n",
    "\tvar5 = var4.replace('Peace', 'Violence')\n",
    "\tprint(var5)\n",
    "\n",
    "\t# Upper, lower, Init-caps\n",
    "\tvar6 = 'i am a god!'\n",
    "\tprint(var6.upper())\n",
    "\tprint(var6.capitalize())\n",
    "\n",
    "\t# Join creates a concat between each character\n",
    "\tprint(':'.join('CYTOKINE'))\n",
    "\n",
    "\t# String reverse\n",
    "\tprint(''.join(reversed('PNEUMONOULTRAMICROSCOPICSILICOVOLCANOCONOSIS')))\n",
    "\n",
    "\t# String Split Function and spits out items in a list\n",
    "\tvar7 = 'HOUSTON-0976891'\n",
    "\tprint(var7.split('-'))\n",
    "\n",
    "\n",
    "if __name__ == \"__main__\":\n",
    "  main()"
   ]
  }
 ],
 "metadata": {
  "interpreter": {
   "hash": "c2e197f2615060b1320db884ce9dd642f21640f7e22d0399598310ef19776d1d"
  },
  "kernelspec": {
   "display_name": "Python 3.10.4 64-bit",
   "language": "python",
   "name": "python3"
  },
  "language_info": {
   "codemirror_mode": {
    "name": "ipython",
    "version": 3
   },
   "file_extension": ".py",
   "mimetype": "text/x-python",
   "name": "python",
   "nbconvert_exporter": "python",
   "pygments_lexer": "ipython3",
   "version": "3.10.4"
  },
  "orig_nbformat": 4
 },
 "nbformat": 4,
 "nbformat_minor": 2
}
