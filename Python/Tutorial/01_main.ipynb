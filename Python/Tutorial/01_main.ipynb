{
 "cells": [
  {
   "cell_type": "code",
   "execution_count": 1,
   "metadata": {},
   "outputs": [
    {
     "name": "stdout",
     "output_type": "stream",
     "text": [
      "print dislocal!"
     ]
    }
   ],
   "source": [
    "def example_function(param_1):\n",
    "    string_local = 'local'\n",
    "    print(param_1 + string_local, end='!')\n",
    "\n",
    "\n",
    "string_dis = 'print dis'\n",
    "\n",
    "example_function(string_dis)"
   ]
  },
  {
   "cell_type": "code",
   "execution_count": 2,
   "metadata": {},
   "outputs": [
    {
     "name": "stdout",
     "output_type": "stream",
     "text": [
      "\n",
      "\n",
      " ('Malenia the Undefeated', 'Miquella the Unalloyed')\n",
      "John Cena   Military Wing 2   G32-R\n",
      "false\n",
      "[('x', 100), ('y', 200)]\n"
     ]
    }
   ],
   "source": [
    "# Python has several data structure arrays\n",
    "# Tuple\n",
    "\n",
    "# Tuple Assignment\n",
    "tuple_1 = ('Lunar Princess Ranni', 'Malenia the Undefeated', 'Miquella the Unalloyed')\n",
    "\n",
    "# Tuple Range\n",
    "print('\\n' * 2, tuple_1[1:3])\n",
    "\n",
    "# Tuple is immutable as compared to dict and list\n",
    "# Tuple Pack and Unpack: Assignment of values into tuple and names\n",
    "tuple_2 = ('John Cena', 'Military Wing 2', 'G32-R')\n",
    "(m_name, m_pos, m_wep) = tuple_2\n",
    "print(m_name, ' ', m_pos, ' ', m_wep)\n",
    "\n",
    "# Tuple Compare works with the 1st element onwards\n",
    "# If first on both is not conclusive, it works to the second\n",
    "tuple_3 = (1, 7)\n",
    "tuple_4 = (2, 5)\n",
    "# Makeshift ternary operator\n",
    "print(\"true\" if tuple_3 > tuple_4 else \"false\")\n",
    "\n",
    "# Using tuples as key in dictionaries structure or vice versa\n",
    "a = {'x': 100, 'y': 200}\n",
    "b = list(a.items())\n",
    "print(b)"
   ]
  },
  {
   "cell_type": "code",
   "execution_count": 3,
   "metadata": {},
   "outputs": [
    {
     "name": "stdout",
     "output_type": "stream",
     "text": [
      "7.62x39\n",
      "{'G23R': '5.72x39', 'AK-47': '7.62x39', 'XM1014': '12-G'}\n",
      "Guns: [('G23R', '5.72x39'), ('AK-47', '7.62x39'), ('XM1014', '12-G')]\n",
      "AK-47:7.62x39\n",
      "G23R:5.72x39\n",
      "XM1014:12-G\n",
      "3\n",
      "<class 'dict'>\n",
      "{'G23R': '5.72x39', 'AK-47': '7.62x39', 'XM1014': '12-G'}\n",
      "{'G23R': '5.56x45', 'AK-47': '7.62x39', 'XM1014': '12-G', 'MP5-SP': '9x19'}\n",
      "False\n"
     ]
    }
   ],
   "source": [
    "# Dictionaries are structures with key pairs\n",
    "dict_1 = {'G23R': '5.56x45', 'AK-47': '7.62x39'}\n",
    "print(dict_1['AK-47'])\n",
    "\n",
    "# Dictionaries copying and updating\n",
    "dict_2 = dict_1.copy()\n",
    "dict_1['G23R'] = '5.72x39'\n",
    "dict_1.update({'XM1014': '12-G'})\n",
    "print(dict_1)\n",
    "print(\"Guns: %s\" % list(dict_1.items()))\n",
    "\n",
    "# Dictionaries sorting via list function\n",
    "guns_1 = list(dict_1.keys())\n",
    "guns_1.sort()\n",
    "for g in guns_1:\n",
    "    print(\":\".join((g, str(dict_1[g]))))\n",
    "\n",
    "# Misc functions\n",
    "print(len(dict_1))\n",
    "print(type(dict_1))\n",
    "print(str(dict_1))\n",
    "\n",
    "# Dictionaries merge via Kwargs\n",
    "dict_2.update({'MP5-SP': '9x19'})\n",
    "dict_3 = {**dict_1, **dict_2}\n",
    "print(dict_3)\n",
    "\n",
    "# Check membership\n",
    "print(\"PC90\" in dict_3)  # False"
   ]
  },
  {
   "cell_type": "code",
   "execution_count": 22,
   "metadata": {},
   "outputs": [
    {
     "name": "stdout",
     "output_type": "stream",
     "text": [
      "6\n",
      "8\n",
      "[6, 7, 8]\n",
      "1\n",
      "[8, 7, 5, 4, 1, 0]\n",
      "[8, 7, 4, 1, 0, 15, 9, 9]\n",
      "[8, 4, 1, 0, 15, 9, 9]\n",
      "[1, 5, 5, 6]\n",
      "[1, 5, 6, [1, 4]]\n"
     ]
    }
   ],
   "source": [
    "# List\n",
    "# Just like array\n",
    "list_1 = [1,5,6,7,8]\n",
    "print(list_1[2])\n",
    "\n",
    "# Reverse index works too\n",
    "print(list_1[-1])\n",
    "\n",
    "# List slicing\n",
    "print(list_1[2:])\n",
    "\n",
    "# Indexing returns the first instance of the object in its index position\n",
    "print(list_1.index(5))\n",
    "\n",
    "# Sorting\n",
    "z = [5,7,8,1,4,0]\n",
    "z.sort(reverse=True)\n",
    "print(z)\n",
    "\n",
    "# List append and extension/adding of cells or removing\n",
    "index = 1\n",
    "\n",
    "z.append(15)\n",
    "z.extend([9,9])\n",
    "z.remove(5)\n",
    "print(z)\n",
    "\n",
    "z.pop(index)\n",
    "print(z)\n",
    "\n",
    "print([1,5]+[5,6])\n",
    "\n",
    "list_2 = [1,5,6]\n",
    "list_2.insert(4,[1,4])\n",
    "print(list_2)"
   ]
  },
  {
   "cell_type": "code",
   "execution_count": 4,
   "metadata": {},
   "outputs": [
    {
     "name": "stdout",
     "output_type": "stream",
     "text": [
      "Something\n"
     ]
    }
   ],
   "source": [
    "# Main function\n",
    "def main():\n",
    "    print('Something')\n",
    "\n",
    "\n",
    "if __name__ == \"__main__\":\n",
    "    main()"
   ]
  },
  {
   "cell_type": "code",
   "execution_count": 2,
   "metadata": {},
   "outputs": [
    {
     "name": "stdout",
     "output_type": "stream",
     "text": [
      "True\n",
      "1 6 What\n"
     ]
    }
   ],
   "source": [
    "# Other functions\n",
    "def isEven(x):\n",
    "    return x%2 == 0\n",
    "\n",
    "print(isEven(4))\n",
    "\n",
    "def multiInputs(*args):\n",
    "    print(*args)\n",
    "\n",
    "multiInputs(1,6,\"What\")"
   ]
  },
  {
   "cell_type": "code",
   "execution_count": 3,
   "metadata": {},
   "outputs": [
    {
     "name": "stdout",
     "output_type": "stream",
     "text": [
      "CHONK\n",
      "Yes\n"
     ]
    }
   ],
   "source": [
    "# IF ELSE statments\n",
    "var_1 = 1415151\n",
    "\n",
    "if(var_1 > 10000):\n",
    "    print(\"CHONK\")\n",
    "elif(var_1 > 1000):\n",
    "    print(\"BIG\")\n",
    "else:\n",
    "    print(\"SMOL\")\n",
    "\n",
    "if(var_1 > 0):\n",
    "    if(var_1 < 500):\n",
    "        print(\"No\")\n",
    "    else:\n",
    "        print(\"Yes\")\n",
    "else:\n",
    "    print(\"NEGATIVE!\")\n"
   ]
  },
  {
   "cell_type": "code",
   "execution_count": 4,
   "metadata": {},
   "outputs": [
    {
     "name": "stdout",
     "output_type": "stream",
     "text": [
      "You are safe... for now\n"
     ]
    }
   ],
   "source": [
    "# Switch Casing\n",
    "# Switch-case in python is not straightforward to pull out\n",
    "\n",
    "def switch(x):\n",
    "    switcher = {\n",
    "        \"Positive\": \"You have been detected to have Covid-19\",\n",
    "        \"Negative\": \"You are safe... for now\",\n",
    "        \"Neither\":  \"Die\"\n",
    "    }\n",
    "    return switcher.get(x,\"NULL\")\n",
    "\n",
    "print(switch(\"Negative\"))"
   ]
  },
  {
   "cell_type": "code",
   "execution_count": 27,
   "metadata": {},
   "outputs": [
    {
     "name": "stdout",
     "output_type": "stream",
     "text": [
      "true\n",
      "1\n",
      "False\n"
     ]
    }
   ],
   "source": [
    "# Logical expression\n",
    "# Circuit logic gates: AND, OR, NAND etc.\n",
    "\n",
    "print(True and \"true\")\n",
    "print(1 or False)\n",
    "print(not True)"
   ]
  }
 ],
 "metadata": {
  "interpreter": {
   "hash": "c2e197f2615060b1320db884ce9dd642f21640f7e22d0399598310ef19776d1d"
  },
  "kernelspec": {
   "display_name": "Python 3.10.4 64-bit",
   "language": "python",
   "name": "python3"
  },
  "language_info": {
   "codemirror_mode": {
    "name": "ipython",
    "version": 3
   },
   "file_extension": ".py",
   "mimetype": "text/x-python",
   "name": "python",
   "nbconvert_exporter": "python",
   "pygments_lexer": "ipython3",
   "version": "3.10.4"
  },
  "orig_nbformat": 4
 },
 "nbformat": 4,
 "nbformat_minor": 2
}
