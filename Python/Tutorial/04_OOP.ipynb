{
 "cells": [
  {
   "cell_type": "code",
   "execution_count": 5,
   "metadata": {},
   "outputs": [
    {
     "name": "stdout",
     "output_type": "stream",
     "text": [
      "Inputted: Johnathan - <__main__.class_01 object at 0x0000027AF2A03490>\n"
     ]
    }
   ],
   "source": [
    "# Python Object Oriented Programming Concepts\n",
    "\n",
    "# Class Definition \n",
    "# Self is there to access the current object\n",
    "class class_01:\n",
    "    def method_01(self,arg1):\n",
    "        print(f'Inputted: {arg1} - {self}')\n",
    "\n",
    "# Class Creation and Method Calling\n",
    "c_01 = class_01()\n",
    "c_01.method_01('Johnathan')\n"
   ]
  },
  {
   "cell_type": "code",
   "execution_count": 7,
   "metadata": {},
   "outputs": [
    {
     "name": "stdout",
     "output_type": "stream",
     "text": [
      "Material Type: Construction \n",
      "Metal Type: Rare metal \n"
     ]
    }
   ],
   "source": [
    "# Class Inheritance\n",
    "# Inheritance is the action where a class inherits the methods and functions of a parent class\n",
    "class material:\n",
    "    def type(self,arg1):\n",
    "        print(f'Material Type: {arg1} ')\n",
    "\n",
    "class metal(material):\n",
    "    def name(self, arg1):\n",
    "        print(f'Metal Type: {arg1} ')\n",
    "\n",
    "platinum_01 = metal()\n",
    "platinum_01.type('Construction')\n",
    "platinum_01.name('Rare metal')"
   ]
  },
  {
   "cell_type": "code",
   "execution_count": 9,
   "metadata": {},
   "outputs": [
    {
     "name": "stdout",
     "output_type": "stream",
     "text": [
      "Hi, I am Johnny Silverhand\n"
     ]
    }
   ],
   "source": [
    "# Class Constructor (and probably Destructor)\n",
    "class User:\n",
    "    name=''\n",
    "    # Constructor\n",
    "    def __init__(self, name):\n",
    "        self.name = name\n",
    "    def default(self):\n",
    "        print(f'Hi, I am {self.name}')\n",
    "\n",
    "user1 = User('Johnny Silverhand')\n",
    "user1.default()\n"
   ]
  }
 ],
 "metadata": {
  "interpreter": {
   "hash": "c2e197f2615060b1320db884ce9dd642f21640f7e22d0399598310ef19776d1d"
  },
  "kernelspec": {
   "display_name": "Python 3.10.4 64-bit",
   "language": "python",
   "name": "python3"
  },
  "language_info": {
   "name": "python",
   "version": "3.10.4"
  },
  "orig_nbformat": 4
 },
 "nbformat": 4,
 "nbformat_minor": 2
}
