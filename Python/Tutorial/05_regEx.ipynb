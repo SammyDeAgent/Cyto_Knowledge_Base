{
 "cells": [
  {
   "cell_type": "code",
   "execution_count": 3,
   "metadata": {},
   "outputs": [],
   "source": [
    "# Regular Expressions are constructs that is used for search or pattern matching\n",
    "# Ie. Regex is literally alien language to many of us LOL\n",
    "\n",
    "# First, import the regex library\n",
    "import re"
   ]
  },
  {
   "cell_type": "code",
   "execution_count": 4,
   "metadata": {},
   "outputs": [],
   "source": [
    "# Search term assignment\n",
    "search_1 = \"The quick brown fox jumps over the lazy dog.\"\n",
    "search_2 = \"410jdc1ck01vm12931.1414141.41414-41515fjiwmwsammy\""
   ]
  },
  {
   "cell_type": "code",
   "execution_count": 5,
   "metadata": {},
   "outputs": [
    {
     "name": "stdout",
     "output_type": "stream",
     "text": [
      "['410jdc1ck01vm12931']\n"
     ]
    }
   ],
   "source": [
    "# Regex neeeds to be escape with r\"\"\n",
    "# The regex starts with ^ \n",
    "# \\w+ matches alphanumerical instances, the + sign appended tells it to include ALL behind it if applys instead of just the first instance\n",
    "re1 = re.findall(r\"^\\w+\",search_2)\n",
    "print(re1)"
   ]
  },
  {
   "cell_type": "code",
   "execution_count": 6,
   "metadata": {},
   "outputs": [
    {
     "name": "stdout",
     "output_type": "stream",
     "text": [
      "['The', 'quick', 'brown', 'fox', 'jumps', 'over', 'the', 'lazy', 'dog.']\n"
     ]
    }
   ],
   "source": [
    "# Splitting method of re encompasses the expression \\s which identifies spaces\n",
    "re2 = re.split(r'\\s',search_1)\n",
    "print(re2)"
   ]
  },
  {
   "cell_type": "code",
   "execution_count": 7,
   "metadata": {},
   "outputs": [],
   "source": [
    "# Rest of the expression identifiers includes:\n",
    "# \\d for matching numerals/digits \n",
    "# \\s for spaces\n",
    "# \\w for alphanumeric\n",
    "# . any but letters\n",
    "# \\b any character except new line\n",
    "# \\D, \\S, \\W identifies anything but the intented, take it as NOT gate\n",
    "\n",
    "# Rest of the modifies includes:\n",
    "# {x,y} for matching range of characters\n",
    "# + matches one or more\n",
    "# ? matches 0 or 1\n",
    "# * matches 0 or more\n",
    "# $ match end of a string\n",
    "# ^ match start of a string\n",
    "# | matches either a or b\n",
    "# [] range or variancce\n",
    "# {x} this amount of preceding code\n",
    "\n",
    "# White space characters:\n",
    "# \\n new line\n",
    "# \\s space\n",
    "# \\t tab\n",
    "# \\e escape\n",
    "# \\r carriage return\n",
    "# \\f form feed"
   ]
  },
  {
   "cell_type": "code",
   "execution_count": 8,
   "metadata": {},
   "outputs": [
    {
     "name": "stdout",
     "output_type": "stream",
     "text": [
      "<re.Match object; span=(0, 3), match='410'>\n"
     ]
    }
   ],
   "source": [
    "# Regex Match\n",
    "# Return first instances of occurances\n",
    "\n",
    "re3 = re.match(\"\\d+\", search_2)\n",
    "print(re3)"
   ]
  },
  {
   "cell_type": "code",
   "execution_count": 9,
   "metadata": {},
   "outputs": [
    {
     "name": "stdout",
     "output_type": "stream",
     "text": [
      "<re.Match object; span=(44, 49), match='sammy'>\n"
     ]
    }
   ],
   "source": [
    "# Regex Search\n",
    "# Unlike match, it search for all the lines\n",
    "re4 = re.search(\"sammy\",search_2)\n",
    "print(re4)"
   ]
  },
  {
   "cell_type": "code",
   "execution_count": 10,
   "metadata": {},
   "outputs": [
    {
     "name": "stdout",
     "output_type": "stream",
     "text": [
      "yee142857@gmail.com\n",
      "fam1o@huawei.com\n",
      "khang@yahoo.xyz\n"
     ]
    }
   ],
   "source": [
    "# Regex Find all\n",
    "# Instead of only one occurance, it will return a list of matchs\n",
    "\n",
    "mails = \"yee142857@gmail.com,fam1o@huawei.com,khang@yahoo.xyz,jojo+.com\"\n",
    "\n",
    "re5 = re.findall(r'[\\w\\.-]+@[\\w\\.-]+', mails)\n",
    "\n",
    "for mail in re5:\n",
    "    print(mail)"
   ]
  },
  {
   "cell_type": "code",
   "execution_count": 11,
   "metadata": {},
   "outputs": [
    {
     "name": "stdout",
     "output_type": "stream",
     "text": [
      "['Hi']\n",
      "['Hi', 'There', 'Fellow', 'Matriach']\n"
     ]
    }
   ],
   "source": [
    "# Flags\n",
    "# Flags are optional args that can modify the meaning of given regex pattern:\n",
    "# [re.M] Make begin/end consider each line\n",
    "# [re.I] Ignore case\n",
    "# [re.S] Make [.]\n",
    "# [re.U] Make {\\w \\W \\b \\B} follows Unicode rule\n",
    "# [re.L] Make {\\w \\W \\b \\B} follow locale\n",
    "# [re.X] Allow comment in Regex\n",
    "\n",
    "# Multiline example\n",
    "mm = \"\"\"Hi\n",
    "There\n",
    "Fellow\n",
    "Matriach\"\"\"\n",
    "\n",
    "k1 = re.findall(r'^\\w+', mm)\n",
    "k2 = re.findall(r'^\\w+', mm, re.M)\n",
    "\n",
    "print(k1)\n",
    "print(k2)"
   ]
  }
 ],
 "metadata": {
  "interpreter": {
   "hash": "c2e197f2615060b1320db884ce9dd642f21640f7e22d0399598310ef19776d1d"
  },
  "kernelspec": {
   "display_name": "Python 3.10.4 64-bit",
   "language": "python",
   "name": "python3"
  },
  "language_info": {
   "codemirror_mode": {
    "name": "ipython",
    "version": 3
   },
   "file_extension": ".py",
   "mimetype": "text/x-python",
   "name": "python",
   "nbconvert_exporter": "python",
   "pygments_lexer": "ipython3",
   "version": "3.10.4"
  },
  "orig_nbformat": 4
 },
 "nbformat": 4,
 "nbformat_minor": 2
}
