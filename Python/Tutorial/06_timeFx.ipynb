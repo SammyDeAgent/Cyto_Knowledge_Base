{
 "cells": [
  {
   "cell_type": "code",
   "execution_count": 1,
   "metadata": {},
   "outputs": [],
   "source": [
    "# Python DateTime, TimeDelta, Strftime(Formating)\n",
    "# Import essential libs\n",
    "\n",
    "from datetime import date\n",
    "from datetime import time\n",
    "from datetime import datetime"
   ]
  },
  {
   "cell_type": "code",
   "execution_count": 6,
   "metadata": {},
   "outputs": [
    {
     "name": "stdout",
     "output_type": "stream",
     "text": [
      "Today's date is 2022-06-09 Weekday: [3]\n",
      "Components: 9 6 2022\n"
     ]
    }
   ],
   "source": [
    "# Date and DateTime Usage\n",
    "# For weekday, monday starts at 0 and sunday at 6\n",
    "today = date.today()\n",
    "print(f\"Today's date is {today} Weekday: [{today.weekday()}]\")\n",
    "\n",
    "# Individual Components\n",
    "def convertDate(args1):\n",
    "    print(f\"Components: {args1.day} {args1.month} {args1.year}\")\n",
    "convertDate(today)"
   ]
  },
  {
   "cell_type": "code",
   "execution_count": 10,
   "metadata": {},
   "outputs": [
    {
     "name": "stdout",
     "output_type": "stream",
     "text": [
      "Current date and time object is 2022-06-09 09:05:03.429924\n",
      "Current time is 09:05:03.429924\n"
     ]
    }
   ],
   "source": [
    "# Current Date Objects\n",
    "today = datetime.now()\n",
    "print(f\"Current date and time object is {today}\")\n",
    "\n",
    "# Date time Object\n",
    "t = datetime.time(datetime.now())\n",
    "print(f\"Current time is {t}\")"
   ]
  },
  {
   "cell_type": "code",
   "execution_count": 11,
   "metadata": {},
   "outputs": [
    {
     "name": "stdout",
     "output_type": "stream",
     "text": [
      "Today is thursday\n"
     ]
    }
   ],
   "source": [
    "# Using an indexer to identify which day is today\n",
    "days = [\"monday\",\"tuesday\",\"wednesday\",\"thursday\",\"friday\",\"saturday\",\"sunday\"]\n",
    "wd = date.weekday(today)\n",
    "print(f\"Today is {days[wd]}\")"
   ]
  },
  {
   "cell_type": "code",
   "execution_count": 16,
   "metadata": {},
   "outputs": [
    {
     "name": "stdout",
     "output_type": "stream",
     "text": [
      "2022\n",
      "Thu, 09 June 2022\n"
     ]
    }
   ],
   "source": [
    "# Date formatting, very useful stuff for OCD Havers!\n",
    "now = datetime.now()\n",
    "print(now.strftime(\"%Y\"))\n",
    "\n",
    "# Formatting syntax and prefix as follows:\n",
    "# %y / %Y as years\n",
    "# %a / %A as weekday\n",
    "# %b / %B as month\n",
    "# %d as day of month\n",
    "# Notice that uppercase version will have different output, noticibly a short form\n",
    "\n",
    "print(now.strftime(\"%a, %d %B %Y\"))"
   ]
  },
  {
   "cell_type": "code",
   "execution_count": 19,
   "metadata": {},
   "outputs": [
    {
     "name": "stdout",
     "output_type": "stream",
     "text": [
      "Local Date Time:  Thu Jun  9 09:10:57 2022\n",
      "Local Date: 06/09/22\n",
      "Local Time: 09:10:57\n"
     ]
    }
   ],
   "source": [
    "# Local system time can also be retreived\n",
    "print(\"Local Date Time: \", now.strftime(\"%c\"))\n",
    "print(\"Local Date:\", now.strftime(\"%x\"))\n",
    "print(\"Local Time:\", now.strftime(\"%X\"))"
   ]
  },
  {
   "cell_type": "code",
   "execution_count": 33,
   "metadata": {},
   "outputs": [
    {
     "name": "stdout",
     "output_type": "stream",
     "text": [
      "12 Hour Format:  09:10:57 AM\n",
      "24 Hour Format:  09:10:57\n"
     ]
    }
   ],
   "source": [
    "# Formatting of time in details:\n",
    "# %I / %H for hour\n",
    "# %M for minute\n",
    "# %S for second\n",
    "# %p for meridian \n",
    "# %H is for 24 hours format\n",
    "\n",
    "print(\"12 Hour Format: \", now.strftime(\"%I:%M:%S %p\"))\n",
    "print(\"24 Hour Format: \", now.strftime(\"%H:%M:%S\"))"
   ]
  },
  {
   "cell_type": "code",
   "execution_count": 30,
   "metadata": {},
   "outputs": [],
   "source": [
    "# Python Time Delta\n",
    "# Timedelta is an object that represents duration\n",
    "# Used to calculate elapsed time between dates\n",
    "\n",
    "from datetime import timedelta"
   ]
  },
  {
   "cell_type": "code",
   "execution_count": 38,
   "metadata": {},
   "outputs": [
    {
     "name": "stdout",
     "output_type": "stream",
     "text": [
      "365 days, 8:15:00\n",
      "2022-06-09 09:27:07.708730\n",
      "Appending the timedelta to current time: 2023-06-09 17:42:07.708730\n"
     ]
    }
   ],
   "source": [
    "# Timedelta appending the time forward\n",
    "tD1 = timedelta(days=365, hours=8, minutes=15)\n",
    "print(tD1)\n",
    "print(str(datetime.now()))\n",
    "\n",
    "# Appending for future time\n",
    "print(f\"Appending the timedelta to current time: {str(datetime.now()+ tD1)}\")\n"
   ]
  },
  {
   "cell_type": "code",
   "execution_count": 40,
   "metadata": {},
   "outputs": [
    {
     "name": "stdout",
     "output_type": "stream",
     "text": [
      "New Years elapsed time: 159 Days\n"
     ]
    }
   ],
   "source": [
    "# Calculating time elpased\n",
    "today = date.today()\n",
    "nyd = date(today.year, 1, 1)\n",
    "if(nyd < today):\n",
    "    print(f\"New Years elapsed time: {(today - nyd).days} Days\")"
   ]
  }
 ],
 "metadata": {
  "interpreter": {
   "hash": "c2e197f2615060b1320db884ce9dd642f21640f7e22d0399598310ef19776d1d"
  },
  "kernelspec": {
   "display_name": "Python 3.10.4 64-bit",
   "language": "python",
   "name": "python3"
  },
  "language_info": {
   "codemirror_mode": {
    "name": "ipython",
    "version": 3
   },
   "file_extension": ".py",
   "mimetype": "text/x-python",
   "name": "python",
   "nbconvert_exporter": "python",
   "pygments_lexer": "ipython3",
   "version": "3.10.4"
  },
  "orig_nbformat": 4
 },
 "nbformat": 4,
 "nbformat_minor": 2
}
