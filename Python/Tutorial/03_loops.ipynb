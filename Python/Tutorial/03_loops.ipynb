{
 "cells": [
  {
   "cell_type": "code",
   "execution_count": 2,
   "metadata": {},
   "outputs": [
    {
     "name": "stdout",
     "output_type": "stream",
     "text": [
      "Iteration:  0  - Debugging Process\n",
      "Iteration:  1  - Debugging Process\n",
      "Iteration:  2  - Debugging Process\n",
      "Iteration:  3  - Debugging Process\n"
     ]
    }
   ],
   "source": [
    "# Several looping methods: For-loop, While-loops, Do-while loops\n",
    "# While-Loop\n",
    "x = 0\n",
    "while(x < 4):\n",
    "    print(\"Iteration: \",x,\" - Debugging Process\")\n",
    "    x+=1"
   ]
  },
  {
   "cell_type": "code",
   "execution_count": 1,
   "metadata": {},
   "outputs": [
    {
     "name": "stdout",
     "output_type": "stream",
     "text": [
      "Iteration:  2  - Debugging Process\n",
      "Iteration:  3  - Debugging Process\n",
      "Iteration:  4  - Debugging Process\n",
      "Iteration:  5  - Debugging Process\n",
      "Iteration:  6  - Debugging Process\n",
      "Iteration:  7  - Debugging Process\n",
      "Iteration:  8  - Debugging Process\n",
      "\n",
      "Knights of Favonius\n",
      "The Millileth\n",
      "Inazuma Shogunate\n"
     ]
    }
   ],
   "source": [
    "# For-Loop - Numbers\n",
    "x = 0\n",
    "for x in range(2,9):\n",
    "    print(\"Iteration: \",x,\" - Debugging Process\")\n",
    "print()\n",
    "\n",
    "# For-Loop - Strings or cells in list/arrays\n",
    "list_1 = [\"Knights of Favonius\",\"The Millileth\",\"Inazuma Shogunate\"]\n",
    "for x in list_1:\n",
    "    print(x)"
   ]
  },
  {
   "cell_type": "code",
   "execution_count": 15,
   "metadata": {},
   "outputs": [
    {
     "name": "stdout",
     "output_type": "stream",
     "text": [
      "Iteration:  0  - Debugging Process\n",
      "Iteration:  1  - Debugging Process\n",
      "Iteration:  2  - Debugging Process\n",
      "Iteration:  3  - Debugging Process\n",
      "Iteration:  4  - Debugging Process\n",
      "Iteration:  5  - Debugging Process\n",
      "Iteration:  6  - Debugging Process\n",
      "\n",
      "Iteration:  0  - Debugging Process\n",
      "Iteration:  1  - Debugging Process\n",
      "Iteration:  2  - Debugging Process\n",
      "Iteration:  3  - Debugging Process\n",
      "Iteration:  4  - Debugging Process\n",
      "Iteration:  6  - Debugging Process\n",
      "Iteration:  7  - Debugging Process\n",
      "Iteration:  8  - Debugging Process\n",
      "Iteration:  9  - Debugging Process\n"
     ]
    }
   ],
   "source": [
    "# Loop Breaks and Continue\n",
    "# Breaks will break out of the current local loop, continue will restart the current loop\n",
    "\n",
    "for x in range(0,20):\n",
    "    if(x==7): break\n",
    "    print(\"Iteration: \",x,\" - Debugging Process\")\n",
    "\n",
    "print()\n",
    "\n",
    "for x in range(0,10):\n",
    "    if(x==5): continue\n",
    "    print(\"Iteration: \",x,\" - Debugging Process\")\n",
    "\n",
    "\n"
   ]
  },
  {
   "cell_type": "code",
   "execution_count": 16,
   "metadata": {},
   "outputs": [
    {
     "name": "stdout",
     "output_type": "stream",
     "text": [
      "0 - Ranni\n",
      "1 - Rykard\n",
      "2 - Radahn\n",
      "3 - Malenia\n",
      "4 - Miquella\n",
      "5 - Morgott\n",
      "6 - Mohg\n",
      "7 - Godrick\n",
      "8 - Godwyn\n"
     ]
    }
   ],
   "source": [
    "# Enumerate is an action that assigns indexs to each of the cells in an array\n",
    "\n",
    "list_2 = [\"Ranni\",\"Rykard\",\"Radahn\",\"Malenia\",\"Miquella\",\"Morgott\",\"Mohg\",\"Godrick\",\"Godwyn\"]\n",
    "\n",
    "for i, m in enumerate (list_2):\n",
    "    # Template Literal in Python\n",
    "    print(f\"{i} - {m}\")\n",
    "    # print(\"{} - {}\".format(i,m))\n"
   ]
  },
  {
   "cell_type": "code",
   "execution_count": 2,
   "metadata": {},
   "outputs": [
    {
     "name": "stdout",
     "output_type": "stream",
     "text": [
      "Hi there 1\n",
      "Hi there 2\n",
      "Hi there 3\n"
     ]
    }
   ],
   "source": [
    "# Misc\n",
    "for i in '123':\n",
    "    print(f'Hi there {i}')"
   ]
  }
 ],
 "metadata": {
  "interpreter": {
   "hash": "c2e197f2615060b1320db884ce9dd642f21640f7e22d0399598310ef19776d1d"
  },
  "kernelspec": {
   "display_name": "Python 3.10.4 64-bit",
   "language": "python",
   "name": "python3"
  },
  "language_info": {
   "codemirror_mode": {
    "name": "ipython",
    "version": 3
   },
   "file_extension": ".py",
   "mimetype": "text/x-python",
   "name": "python",
   "nbconvert_exporter": "python",
   "pygments_lexer": "ipython3",
   "version": "3.10.4"
  },
  "orig_nbformat": 4
 },
 "nbformat": 4,
 "nbformat_minor": 2
}
